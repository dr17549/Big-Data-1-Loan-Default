{
 "cells": [
  {
   "cell_type": "code",
   "execution_count": 1,
   "id": "0e0dc808",
   "metadata": {
    "scrolled": true
   },
   "outputs": [],
   "source": [
    "# import libraries\n",
    "\n",
    "# handle dataset \n",
    "import pandas as pd\n",
    "import numpy as np\n",
    "import matplotlib.pyplot as plt\n",
    "import seaborn as sns\n",
    "import plotly.express as px\n",
    "\n",
    "from sklearn.model_selection import KFold\n",
    "from sklearn.linear_model import LogisticRegression\n",
    "from sklearn.metrics import recall_score, precision_score, f1_score, mean_squared_error, make_scorer,accuracy_score\n",
    "from sklearn.ensemble import RandomForestClassifier\n",
    "from sklearn.model_selection import GridSearchCV, train_test_split\n",
    "from sklearn.neighbors import KNeighborsClassifier\n",
    "from sklearn.preprocessing import StandardScaler\n",
    "from sklearn.tree import DecisionTreeClassifier\n",
    "from sklearn.metrics import roc_auc_score, roc_curve, auc\n",
    "from sklearn.ensemble import AdaBoostClassifier\n",
    "\n",
    "from xgboost import XGBClassifier  # Assuming you are using XGBoost for classification; use XGBRegressor for regression\n",
    "import xgboost as xgb \n",
    "\n",
    "from sklearn.metrics import confusion_matrix\n",
    "\n",
    "import pprint\n",
    "from tabulate import tabulate\n",
    "\n",
    "from sklearn import linear_model\n",
    "\n",
    "from imblearn.over_sampling import SMOTE\n",
    "# if there is an error, solve by downgrading to install scikit-learn==1.2.2 \n",
    "# ''' steps : \n",
    "# 1. install pip \n",
    "# 2. uninstall sci-kit \n",
    "# 3. uninstall imblearn\n",
    "# 4. install sci-kit 1.2.2 \n",
    "# 5. install imblearn \n",
    "# '''\n",
    "\n",
    "\n",
    "# Data set from https://www.kaggle.com/datasets/yasserh/loan-default-dataset/data"
   ]
  },
  {
   "cell_type": "markdown",
   "id": "ff898b23",
   "metadata": {},
   "source": [
    "# Data Pre-Processing\n",
    "\n",
    "1. Removed variables that are redundant and uncorrelated to the dependent variable such as ID, year. \n",
    "2. Removed the NAs. "
   ]
  },
  {
   "cell_type": "code",
   "execution_count": 2,
   "id": "2915229e",
   "metadata": {},
   "outputs": [],
   "source": [
    "\n",
    "# 1. Upload the dataset \n",
    "df = pd.read_csv('Loan_Default.csv')\n",
    "# 2. remove some variables that are redundant such as year, ID\n",
    "# 3. Removed Interest_rate_spread and rate_of_interest are dropped due to the fact that their values are NA where the loan has defaulted \n",
    "# 4. Removed open credit , secured by, total units : only has one value or too few observations \n",
    "df = df.drop(['year', 'ID', 'loan_type', 'loan_purpose', 'Interest_rate_spread', \n",
    "              'rate_of_interest', 'open_credit','Upfront_charges','construction_type', \n",
    "              'Secured_by', 'Security_Type','total_units'], axis=1)\n",
    "\n",
    "# 5. Removed NAs \n",
    "df = df.dropna(subset=[\"property_value\"])\n",
    "df = df.dropna(subset=[\"term\"])\n",
    "df = df.dropna(subset=[\"loan_limit\"])\n",
    "df = df.dropna(subset=[\"approv_in_adv\"])\n",
    "df = df.dropna(subset=[\"Neg_ammortization\"])\n",
    "df = df.dropna(subset=[\"income\"])\n",
    "# Drop rows where sex is not available \n",
    "df = df.drop(df[df['Gender'] == 'Not Available'].index)\n"
   ]
  },
  {
   "cell_type": "markdown",
   "id": "37560335",
   "metadata": {},
   "source": [
    "## Imbalanced dataset \n",
    "Now we check if the dataset is imbalanced or not. As shown below, it is heavily imbalanced where the minority class (default) has fewer observations than the non-defaulters. "
   ]
  },
  {
   "cell_type": "code",
   "execution_count": 4,
   "id": "0968329f",
   "metadata": {},
   "outputs": [
    {
     "name": "stdout",
     "output_type": "stream",
     "text": [
      "0    100978\n",
      "1     19657\n",
      "Name: Status, dtype: int64\n"
     ]
    }
   ],
   "source": [
    "print(df['Status'].value_counts())"
   ]
  },
  {
   "cell_type": "markdown",
   "id": "610faab6",
   "metadata": {},
   "source": [
    "### Dealing with categorical values "
   ]
  },
  {
   "cell_type": "markdown",
   "id": "8622bc97",
   "metadata": {},
   "source": [
    "We deal with categorical value by turning it into dummy variable. "
   ]
  },
  {
   "cell_type": "code",
   "execution_count": 3,
   "id": "dc92c7d4",
   "metadata": {},
   "outputs": [],
   "source": [
    "\n",
    "# We turn these columns into dummy variables since they are categorical and drop the original column in the dataframe \n",
    "categorical_columns = ['loan_limit', 'Gender', 'approv_in_adv', 'Credit_Worthiness',\n",
    "       'business_or_commercial', 'Neg_ammortization',\n",
    "       'interest_only', 'lump_sum_payment', 'occupancy_type',\n",
    "        'credit_type', 'co-applicant_credit_type',\n",
    "       'age', 'submission_of_application', 'Region']\n",
    "\n",
    "for i in categorical_columns: \n",
    "    df = pd.concat([df,pd.get_dummies(df[i],drop_first=True, prefix=i)],axis=1)\n",
    "    df = df.drop(i,axis=1)\n"
   ]
  },
  {
   "cell_type": "markdown",
   "id": "404c1cc3",
   "metadata": {},
   "source": [
    "# Checking Correlation between values \n",
    "\n",
    "We check for multi-colinearity between variables. "
   ]
  },
  {
   "cell_type": "code",
   "execution_count": 4,
   "id": "03e46568",
   "metadata": {},
   "outputs": [
    {
     "name": "stdout",
     "output_type": "stream",
     "text": [
      "\n",
      "No highly correlated pairs found.\n"
     ]
    }
   ],
   "source": [
    "correlation_matrix = df.corr()\n",
    "\n",
    "# Exclude diagonal elements\n",
    "correlation_matrix_no_diagonal = correlation_matrix.mask(\n",
    "    pd.DataFrame(np.eye(len(correlation_matrix), dtype=bool), correlation_matrix.index, correlation_matrix.columns))\n",
    "\n",
    "# Check for high absolute correlation coefficients\n",
    "threshold = 0.8 \n",
    "highly_correlated_pairs = []\n",
    "\n",
    "for i in range(len(correlation_matrix_no_diagonal.columns)):\n",
    "    for j in range(i):\n",
    "        correlation = correlation_matrix_no_diagonal.iloc[i, j]\n",
    "        if abs(correlation) > threshold:\n",
    "            pair = (correlation_matrix_no_diagonal.columns[i], correlation_matrix_no_diagonal.index[j], correlation)\n",
    "            highly_correlated_pairs.append(pair)\n",
    "\n",
    "if highly_correlated_pairs:\n",
    "    print(\"\\nHighly correlated pairs:\")\n",
    "    for pair in highly_correlated_pairs:\n",
    "        print(f\"{pair[0]} and {pair[1]}: {pair[2]}\")\n",
    "else:\n",
    "    print(\"\\nNo highly correlated pairs found.\")"
   ]
  },
  {
   "cell_type": "code",
   "execution_count": 5,
   "id": "57038d50",
   "metadata": {},
   "outputs": [
    {
     "name": "stdout",
     "output_type": "stream",
     "text": [
      "\n",
      "No highly correlated pairs found.\n"
     ]
    }
   ],
   "source": [
    "if highly_correlated_pairs:\n",
    "    print(\"\\nHighly correlated pairs:\")\n",
    "    for pair in highly_correlated_pairs:\n",
    "        print(f\"{pair[0]} and {pair[1]}: {pair[2]}\")\n",
    "else:\n",
    "    print(\"\\nNo highly correlated pairs found.\")"
   ]
  },
  {
   "cell_type": "markdown",
   "id": "b2c15010",
   "metadata": {},
   "source": [
    "# Split Train Test dataset\n",
    "\n"
   ]
  },
  {
   "cell_type": "code",
   "execution_count": 6,
   "id": "66b3145c",
   "metadata": {},
   "outputs": [],
   "source": [
    "# define X and y variables as dataframe \n",
    "y = df['Status']\n",
    "X = df.drop('Status',axis=1)\n",
    "X_train, X_OOS_test, y_train, y_OOS_test = train_test_split(X, y, test_size=0.20, random_state=66)"
   ]
  },
  {
   "cell_type": "markdown",
   "id": "d3e1ae90",
   "metadata": {},
   "source": [
    "## Over Sampling using SMOTE\n",
    "\n",
    "Since we know previously that our data is hihgly imbalanced, we use SMOTE to help us decrease the bias and to help the model learn to identify the minority class. \n"
   ]
  },
  {
   "cell_type": "code",
   "execution_count": 9,
   "id": "1a528c4d",
   "metadata": {},
   "outputs": [],
   "source": [
    "# Over sample using SMOTE\n",
    "# -- by inspecting the data, we see that the minority class is extremely class (fraud \"Class\" == 1)\n",
    "sm = SMOTE(random_state=42)\n",
    "# X_smote, y_smote = sm.fit_resample(X_train, y_train)"
   ]
  },
  {
   "cell_type": "markdown",
   "id": "075f9e3d",
   "metadata": {},
   "source": [
    "## Setup K-Fold Cross Validation "
   ]
  },
  {
   "cell_type": "code",
   "execution_count": 7,
   "id": "5d5baf83",
   "metadata": {},
   "outputs": [],
   "source": [
    "# Set up K-Fold Cross Validation \n",
    "n_splits = 5\n",
    "shuffle = True\n",
    "random_state = 809\n",
    "cv = KFold(n_splits=n_splits, shuffle=shuffle, random_state=random_state)"
   ]
  },
  {
   "cell_type": "markdown",
   "id": "37c02911",
   "metadata": {},
   "source": [
    "\n",
    "\n",
    "# Model 1 : Linear Regressions (with LASSO and Ridge Regression) \n",
    "\n",
    "## Cross Validation for LASSO "
   ]
  },
  {
   "cell_type": "code",
   "execution_count": 10,
   "id": "1d072777",
   "metadata": {},
   "outputs": [
    {
     "name": "stdout",
     "output_type": "stream",
     "text": [
      "Training Lasso Lambda Value :  0.001\n",
      "Lambda Value Accuracy : 0.001 -0.19562619025909167\n",
      "Lambda Value Precision : 0.001 0.21223258632132094\n",
      "Lambda Value Recall : 0.001 0.26908015235626387\n",
      "\n",
      "Training Lasso Lambda Value :  0.01\n",
      "Lambda Value Accuracy : 0.01 -0.27330212068814547\n",
      "Lambda Value Precision : 0.01 0.27020628529749374\n",
      "Lambda Value Recall : 0.01 0.2679974426320605\n",
      "\n",
      "Training Lasso Lambda Value :  0.1\n",
      "Lambda Value Accuracy : 0.1 -0.7700647651789144\n",
      "Lambda Value Precision : 0.1 0.5973635552644045\n",
      "Lambda Value Recall : 0.1 0.21604385712935828\n",
      "\n",
      "------------------\n",
      "Accuracy :  {0.001: -0.19562619025909167, 0.01: -0.27330212068814547, 0.1: -0.7700647651789144}\n",
      "Precision :  {0.001: 0.26908015235626387, 0.01: 0.2679974426320605, 0.1: 0.21604385712935828}\n",
      "Recall :  {0.001: 0.21223258632132094, 0.01: 0.27020628529749374, 0.1: 0.5973635552644045}\n"
     ]
    }
   ],
   "source": [
    "# Model 2 : LASSO \n",
    "# Cross Validate the penalty term in lasso\n",
    "cross_validate_result = {}\n",
    "cross_validate_recall = {} \n",
    "cross_validate_precision = {} \n",
    "\n",
    "# Set Hyperparameter (Lambda) values to cross validate here !!!!! \n",
    "lambdas = [0.001, 0.01, 0.1]\n",
    "for lambda_value in lambdas:\n",
    "    print('Training Lasso Lambda Value : ', lambda_value)\n",
    "    accuracies = []\n",
    "    recall_scores = [] \n",
    "    precision_scores = [] \n",
    "    lasso = linear_model.Lasso(alpha=lambda_value)\n",
    "    for train_index, test_index in cv.split(X_train):\n",
    "        # change to loc to define the rows in the dataframe \n",
    "        X_cv_train, X_cv_test, y_cv_train, y_cv_test = X_train.iloc[train_index], X_train.iloc[test_index], y_train.iloc[train_index], y_train.iloc[test_index]\n",
    "        # TODO \n",
    "        X_cv_train, y_cv_train = sm.fit_resample(X_cv_train, y_cv_train)\n",
    "        lasso.fit(X_cv_train, y_cv_train)\n",
    "        y_pred = lasso.predict(X_cv_test)\n",
    "        y_pred_classification = [1 if x >= 0.5 else 0 for x in y_pred]\n",
    "\n",
    "        #Cross-Validation Prediction Error\n",
    "        score = lasso.score(X_cv_test, y_cv_test)\n",
    "        accuracies.append(score)\n",
    "        recall_scores.append(recall_score(y_cv_test, y_pred_classification))\n",
    "        precision_scores.append(precision_score(y_cv_test,y_pred_classification))\n",
    "\n",
    "    cross_validate_result[lambda_value] = (sum(accuracies)/len(accuracies))\n",
    "    cross_validate_recall[lambda_value] = (sum(recall_scores)/len(recall_scores))\n",
    "    cross_validate_precision[lambda_value] = (sum(precision_scores)/len(precision_scores))\n",
    "\n",
    "    print(\"Lambda Value Accuracy : \" + str(lambda_value) + \" \" + str((sum(accuracies)/len(accuracies))))\n",
    "    print(\"Lambda Value Precision : \" + str(lambda_value) + \" \" + str((sum(recall_scores)/len(recall_scores))))\n",
    "    print(\"Lambda Value Recall : \" + str(lambda_value) + \" \" + str((sum(precision_scores)/len(precision_scores))))\n",
    "    print() \n",
    "# At the end you'll see what the value of each LASSO paramter is\n",
    "print('------------------')\n",
    "print('Accuracy : ', cross_validate_result)\n",
    "print('Precision : ',cross_validate_precision)\n",
    "print('Recall : ',cross_validate_recall)"
   ]
  },
  {
   "cell_type": "markdown",
   "id": "eea1ffbf",
   "metadata": {},
   "source": [
    "## LASSO vs Ridge vs OLS"
   ]
  },
  {
   "cell_type": "code",
   "execution_count": 12,
   "id": "6354c645",
   "metadata": {},
   "outputs": [
    {
     "name": "stdout",
     "output_type": "stream",
     "text": [
      "OLS OOS Model Recall :  0.18342597271349168\n",
      "OLS OOS Model Precision :  0.24568527918781727\n",
      "--\n",
      "LASSO score : \n",
      "LASSO OOS Model Recall :  0.2561899949469429\n",
      "LASSO OOS Model Precision :  0.25814663951120165\n",
      "--\n",
      "Ridge OOS Model Recall :  0.18342597271349168\n",
      "Ridge OOS Model Precision :  0.24576844955991875\n"
     ]
    }
   ],
   "source": [
    "# Somehow LASSO is performing worse?\n",
    "ols = linear_model.LinearRegression()\n",
    "ols.fit(X_smote, y_smote)    \n",
    "y_pred = ols.predict(X_OOS_test)\n",
    "# turn the continous value into classification via simple >= 0.5 is 1 \n",
    "y_pred_classification = [1 if x >= 0.5 else 0 for x in y_pred]\n",
    "print(\"OLS OOS Model Recall : \" , recall_score(y_OOS_test, y_pred_classification))\n",
    "print(\"OLS OOS Model Precision : \", precision_score(y_OOS_test,y_pred_classification))\n",
    "print(\"--\")\n",
    "\n",
    "# LASSO \n",
    "lasso = linear_model.Lasso(alpha=0.01)\n",
    "lasso.fit(X_smote, y_smote)\n",
    "y_pred = lasso.predict(X_OOS_test)\n",
    "# turn the continous value into classification via simple >= 0.5 is 1 \n",
    "y_pred_classification = [1 if x >= 0.5 else 0 for x in y_pred]\n",
    "print(\"LASSO score : \" , )\n",
    "print(\"LASSO OOS Model Recall : \" , recall_score(y_OOS_test, y_pred_classification))\n",
    "print(\"LASSO OOS Model Precision : \", precision_score(y_OOS_test,y_pred_classification))\n",
    "print(\"--\")\n",
    "\n",
    "# RIDGE \n",
    "ridge = linear_model.Ridge(alpha=3)\n",
    "ridge.fit(X_smote, y_smote)\n",
    "y_pred = ridge.predict(X_OOS_test)\n",
    "# turn the continous value into classification via simple >= 0.5 is 1 \n",
    "y_pred_classification = [1 if x >= 0.5 else 0 for x in y_pred]\n",
    "print(\"Ridge OOS Model Recall : \" , recall_score(y_OOS_test, y_pred_classification))\n",
    "print(\"Ridge OOS Model Precision : \", precision_score(y_OOS_test,y_pred_classification))"
   ]
  },
  {
   "cell_type": "markdown",
   "id": "6775df32",
   "metadata": {},
   "source": [
    "## Plot the ROC Curve"
   ]
  },
  {
   "cell_type": "code",
   "execution_count": 14,
   "id": "ff5b7245",
   "metadata": {},
   "outputs": [
    {
     "data": {
      "image/png": "[encoded data removed]",
      "text/plain": [
       "<Figure size 1000x600 with 1 Axes>"
      ]
     },
     "metadata": {},
     "output_type": "display_data"
    }
   ],
   "source": [
    "# OLS\n",
    "y_pred_ols = ols.predict(X_OOS_test)\n",
    "fpr_ols, tpr_ols, _ = roc_curve(y_OOS_test, y_pred_ols)\n",
    "roc_auc_ols = auc(fpr_ols, tpr_ols)\n",
    "\n",
    "# LASSO\n",
    "y_pred_lasso = lasso.predict(X_OOS_test)\n",
    "fpr_lasso, tpr_lasso, _ = roc_curve(y_OOS_test, y_pred_lasso)\n",
    "roc_auc_lasso = auc(fpr_lasso, tpr_lasso)\n",
    "\n",
    "# RIDGE\n",
    "y_pred_ridge = ridge.predict(X_OOS_test)\n",
    "fpr_ridge, tpr_ridge, _ = roc_curve(y_OOS_test, y_pred_ridge)\n",
    "roc_auc_ridge = auc(fpr_ridge, tpr_ridge)\n",
    "\n",
    "# Plot ROC curves\n",
    "plt.figure(figsize=(10, 6))\n",
    "plt.plot(fpr_ols, tpr_ols, lw=5,color = 'yellow', label='OLS (AUC ='+str(round(roc_auc_ols, 3))+')')\n",
    "plt.plot(fpr_lasso, tpr_lasso,label='LASSO (AUC ='+str(round(roc_auc_lasso, 3))+')')\n",
    "plt.plot(fpr_ridge, tpr_ridge,color='purple', label='Ridge (AUC ='+str(round(roc_auc_ridge, 3))+')')\n",
    "plt.plot([0, 1], [0, 1], color='gray', linestyle='--')\n",
    "plt.xlabel('False Positive Rate')\n",
    "plt.ylabel('True Positive Rate')\n",
    "plt.title('Receiver Operating Characteristic (ROC) Curve')\n",
    "plt.legend(loc='lower right')\n",
    "plt.show()"
   ]
  },
  {
   "cell_type": "markdown",
   "id": "7449ac5f",
   "metadata": {},
   "source": [
    "# Model 2 : Random Forest"
   ]
  },
  {
   "cell_type": "code",
   "execution_count": 11,
   "id": "ee4cb0fe",
   "metadata": {},
   "outputs": [
    {
     "name": "stdout",
     "output_type": "stream",
     "text": [
      "RND Forest Accuracy :  0.7620093670991006\n",
      "RND Forest Recall :  0.38100050530570995\n",
      "RND Forest Precision :  0.31416666666666665\n",
      "RND Forest F1 :  0.34437086092715224\n",
      "RND Forest MSE :  0.23799063290089942\n"
     ]
    }
   ],
   "source": [
    "\n",
    "random_forest = RandomForestClassifier(n_estimators = 200, max_depth=5, random_state=0)\n",
    "random_forest.fit(X_smote, y_smote)\n",
    "\n",
    "y_pred = random_forest.predict(X_OOS_test)\n",
    "print(\"RND Forest Accuracy : \" , accuracy_score(y_OOS_test, y_pred))\n",
    "print(\"RND Forest Recall : \" , recall_score(y_OOS_test, y_pred))\n",
    "print(\"RND Forest Precision : \", precision_score(y_OOS_test,y_pred))\n",
    "print(\"RND Forest F1 : \", f1_score(y_OOS_test,y_pred))\n",
    "print(\"RND Forest MSE : \", mean_squared_error(y_OOS_test,y_pred))"
   ]
  },
  {
   "cell_type": "code",
   "execution_count": null,
   "id": "c1d6112d",
   "metadata": {},
   "outputs": [],
   "source": [
    "# Cross Validate Random Forest\n",
    "param_grid = [{'n_estimators': [200,225,250], 'max_depth' :[10,20,30]}]\n",
    "random_forest_cv = RandomForestClassifier()\n",
    "grid_cv = GridSearchCV(estimator=random_forest_cv, cv=cv, param_grid=param_grid, n_jobs = 3)\n",
    "grid_cv.fit(X_smote, y_smote)"
   ]
  },
  {
   "cell_type": "code",
   "execution_count": 20,
   "id": "8a96202c",
   "metadata": {},
   "outputs": [],
   "source": [
    "def create_dictionary(param_1,param_2):\n",
    "    result_dictionary = {} \n",
    "    for i in param_1: \n",
    "        result_dictionary[i] = {} \n",
    "        for j in param_2: \n",
    "                result_dictionary[i][j] = {} \n",
    "    return result_dictionary"
   ]
  },
  {
   "cell_type": "markdown",
   "id": "1e766132",
   "metadata": {},
   "source": [
    "### 2.1 Random Forest Cross Validation"
   ]
  },
  {
   "cell_type": "code",
   "execution_count": 19,
   "id": "32cc6398",
   "metadata": {},
   "outputs": [
    {
     "name": "stdout",
     "output_type": "stream",
     "text": [
      "Depth of Tree :  5  Number of Trees  50\n",
      "Accuracy : 0.8141852705484677\n",
      "Precision : 0.7881121263025624\n",
      "Recall : 0.8315359661942878\n",
      "\n",
      "Depth of Tree :  10  Number of Trees  50\n",
      "Accuracy : 0.8450853249634077\n",
      "Precision : 0.8061433201371495\n",
      "Recall : 0.8742650039894032\n",
      "\n",
      "Depth of Tree :  20  Number of Trees  50\n",
      "Accuracy : 0.8788006504754711\n",
      "Precision : 0.8353310607835125\n",
      "Recall : 0.9148718603472066\n",
      "\n",
      "Depth of Tree :  5  Number of Trees  100\n",
      "Accuracy : 0.8141296128929836\n",
      "Precision : 0.7926328670931586\n",
      "Recall : 0.828293501300954\n",
      "\n",
      "Depth of Tree :  10  Number of Trees  100\n",
      "Accuracy : 0.8460691386005099\n",
      "Precision : 0.8060760939800934\n",
      "Recall : 0.8761503618455437\n",
      "\n",
      "Depth of Tree :  20  Number of Trees  100\n",
      "Accuracy : 0.8806630636515823\n",
      "Precision : 0.8373464913765325\n",
      "Recall : 0.9167712338420448\n",
      "\n",
      "Depth of Tree :  5  Number of Trees  150\n",
      "Accuracy : 0.8151258159757276\n",
      "Precision : 0.7922083818503254\n",
      "Recall : 0.8303246535176146\n",
      "\n",
      "Depth of Tree :  10  Number of Trees  150\n",
      "Accuracy : 0.8473004314286632\n",
      "Precision : 0.8097088719495249\n",
      "Recall : 0.875532594902363\n",
      "\n",
      "Depth of Tree :  20  Number of Trees  150\n",
      "Accuracy : 0.8809662491194608\n",
      "Precision : 0.8375816339564643\n",
      "Recall : 0.9171632740828404\n",
      "\n",
      "------------------\n",
      "Accuracy :  {50: {5: 0.8141852705484677, 10: 0.8450853249634077, 20: 0.8788006504754711}, 100: {5: 0.8141296128929836, 10: 0.8460691386005099, 20: 0.8806630636515823}, 150: {5: 0.8151258159757276, 10: 0.8473004314286632, 20: 0.8809662491194608}}\n",
      "Precision :  {50: {5: 0.8315359661942878, 10: 0.8742650039894032, 20: 0.9148718603472066}, 100: {5: 0.828293501300954, 10: 0.8761503618455437, 20: 0.9167712338420448}, 150: {5: 0.8303246535176146, 10: 0.875532594902363, 20: 0.9171632740828404}}\n",
      "Recall :  {50: {5: 0.7881121263025624, 10: 0.8061433201371495, 20: 0.8353310607835125}, 100: {5: 0.7926328670931586, 10: 0.8060760939800934, 20: 0.8373464913765325}, 150: {5: 0.7922083818503254, 10: 0.8097088719495249, 20: 0.8375816339564643}}\n"
     ]
    }
   ],
   "source": [
    "# CV in Trees  \n",
    "# Set Hyperparameter (Lambda) values to cross validate here !!!!! \n",
    "max_depth = [5,10,20]\n",
    "number_of_trees = [50,100,150] \n",
    "\n",
    "cross_validate_result = create_dictionary(number_of_trees,max_depth)\n",
    "cross_validate_recall = create_dictionary(number_of_trees,max_depth)\n",
    "cross_validate_precision = create_dictionary(number_of_trees,max_depth) \n",
    "\n",
    "for tree in number_of_trees: \n",
    "    for depth in max_depth:\n",
    "        print('Depth of Tree : ', depth, ' Number of Trees ', tree)\n",
    "        accuracies = []\n",
    "        recall_scores = [] \n",
    "        precision_scores = [] \n",
    "        random_forest_cv = RandomForestClassifier(n_estimators = tree, max_depth=depth)\n",
    "        for train_index, test_index in cv.split(X_smote):\n",
    "            # change to loc to define the rows in the dataframe \n",
    "            X_cv_train, X_cv_test, y_cv_train, y_cv_test = X_smote.iloc[train_index], X_smote.iloc[test_index], y_smote.iloc[train_index], y_smote.iloc[test_index]\n",
    "            random_forest_cv.fit(X_cv_train, y_cv_train)\n",
    "            y_pred = random_forest_cv.predict(X_cv_test)\n",
    "\n",
    "            #Cross-Validation Prediction Error\n",
    "            score = random_forest_cv.score(X_cv_test, y_cv_test)\n",
    "            accuracies.append(score)\n",
    "            recall_scores.append(recall_score(y_cv_test, y_pred))\n",
    "            precision_scores.append(precision_score(y_cv_test,y_pred))\n",
    "        \n",
    "        cross_validate_result[tree][depth] = (sum(accuracies)/len(accuracies))\n",
    "        cross_validate_recall[tree][depth] = (sum(recall_scores)/len(recall_scores))\n",
    "        cross_validate_precision[tree][depth] = (sum(precision_scores)/len(precision_scores))\n",
    "\n",
    "        print(\"Accuracy : \" + str((sum(accuracies)/len(accuracies))))\n",
    "        print(\"Precision : \" + str((sum(recall_scores)/len(recall_scores))))\n",
    "        print(\"Recall : \" + str((sum(precision_scores)/len(precision_scores))))\n",
    "        print() \n",
    "# At the end you'll see what the value of each LASSO paramter is\n",
    "print('------------------')\n",
    "print('Accuracy : ', cross_validate_result)\n",
    "print('Precision : ',cross_validate_precision)\n",
    "print('Recall : ',cross_validate_recall)"
   ]
  },
  {
   "cell_type": "markdown",
   "id": "032dd257",
   "metadata": {},
   "source": [
    "# Model 3 : KNN "
   ]
  },
  {
   "cell_type": "markdown",
   "id": "e383eb21",
   "metadata": {},
   "source": [
    "The cross validation results indicated that 3 (neighbours) is the most optimal number. "
   ]
  },
  {
   "cell_type": "code",
   "execution_count": 65,
   "id": "b079225a",
   "metadata": {},
   "outputs": [
    {
     "name": "stdout",
     "output_type": "stream",
     "text": [
      "KNN Accuracy :  0.6375430016164463\n",
      "KNN Recall :  0.4373420919656392\n",
      "KNN Precision :  0.20984361740817067\n",
      "KNN F1 :  0.28360776603588106\n"
     ]
    }
   ],
   "source": [
    "knn = KNeighborsClassifier(n_neighbors=3)\n",
    "knn.fit(X_smote, y_smote)\n",
    "# Make predictions on the test data\n",
    "y_pred = knn.predict(X_OOS_test)\n",
    "# Evaluate the accuracy of the classifier\n",
    "print(\"KNN Accuracy : \" , accuracy_score(y_OOS_test, y_pred))\n",
    "print(\"KNN Recall : \" , recall_score(y_OOS_test, y_pred))\n",
    "print(\"KNN Precision : \", precision_score(y_OOS_test,y_pred))\n",
    "print(\"KNN F1 : \", f1_score(y_OOS_test,y_pred))"
   ]
  },
  {
   "cell_type": "markdown",
   "id": "318e506b",
   "metadata": {},
   "source": [
    "## Cross Validation for KNN "
   ]
  },
  {
   "cell_type": "code",
   "execution_count": 129,
   "id": "78db3fff",
   "metadata": {},
   "outputs": [
    {
     "name": "stdout",
     "output_type": "stream",
     "text": [
      "Number of Neighbours :  1\n",
      "Accuracy : 0.7491306930716343\n",
      "Precision : 0.7913814929899982\n",
      "Recall : 0.7297182708745649\n",
      "\n",
      "Number of Neighbours :  2\n",
      "Accuracy : 0.7208912490896946\n",
      "Precision : 0.6143489063987174\n",
      "Recall : 0.7807035859110011\n",
      "\n",
      "Number of Neighbours :  5\n",
      "Accuracy : 0.7150626918813072\n",
      "Precision : 0.7600030502917845\n",
      "Recall : 0.6973337101550398\n",
      "\n",
      "Number of Neighbours :  10\n",
      "Accuracy : 0.6934252546752455\n",
      "Precision : 0.6760488446216651\n",
      "Recall : 0.7003987598554531\n",
      "\n",
      "Number of Neighbours :  20\n",
      "Accuracy : 0.6729262988530459\n",
      "Precision : 0.6758568740529208\n",
      "Recall : 0.6719393446404093\n",
      "\n",
      "------------------\n",
      "Accuracy :  {1: 0.7491306930716343, 2: 0.7208912490896946, 5: 0.7150626918813072, 10: 0.6934252546752455, 20: 0.6729262988530459}\n",
      "Precision :  {1: 0.7297182708745649, 2: 0.7807035859110011, 5: 0.6973337101550398, 10: 0.7003987598554531, 20: 0.6719393446404093}\n",
      "Recall :  {1: 0.7913814929899982, 2: 0.6143489063987174, 5: 0.7600030502917845, 10: 0.6760488446216651, 20: 0.6758568740529208}\n"
     ]
    }
   ],
   "source": [
    "# CV in Trees \n",
    "# Set Hyperparameter (Lambda) values to cross validate here !!!!!\n",
    "number_of_neighbours = [1,2,5,10,20] \n",
    "\n",
    "cross_validate_result = {}\n",
    "cross_validate_recall = {} \n",
    "cross_validate_precision = {} \n",
    "\n",
    "for neighbour in number_of_neighbours: \n",
    "    print('Number of Neighbours : ', neighbour)\n",
    "    accuracies = []\n",
    "    recall_scores = [] \n",
    "    precision_scores = [] \n",
    "    knn = KNeighborsClassifier(n_neighbors=neighbour)\n",
    "    for train_index, test_index in cv.split(X_smote):\n",
    "        # change to loc to define the rows in the dataframe \n",
    "        X_cv_train, X_cv_test, y_cv_train, y_cv_test = X_smote.iloc[train_index], X_smote.iloc[test_index], y_smote.iloc[train_index], y_smote.iloc[test_index]\n",
    "        knn.fit(X_cv_train, y_cv_train)\n",
    "        y_pred = knn.predict(X_cv_test)\n",
    "\n",
    "        #Cross-Validation Prediction Error\n",
    "        score = knn.score(X_cv_test, y_cv_test)\n",
    "        accuracies.append(score)\n",
    "        recall_scores.append(recall_score(y_cv_test, y_pred))\n",
    "        precision_scores.append(precision_score(y_cv_test,y_pred))\n",
    "    \n",
    "    cross_validate_result[neighbour] = (sum(accuracies)/len(accuracies))\n",
    "    cross_validate_recall[neighbour] = (sum(recall_scores)/len(recall_scores))\n",
    "    cross_validate_precision[neighbour] = (sum(precision_scores)/len(precision_scores))\n",
    "\n",
    "    print(\"Accuracy : \" + str((sum(accuracies)/len(accuracies))))\n",
    "    print(\"Precision : \" + str((sum(recall_scores)/len(recall_scores))))\n",
    "    print(\"Recall : \" + str((sum(precision_scores)/len(precision_scores))))\n",
    "    print() \n",
    "# At the end you'll see what the value of each LASSO paramter is\n",
    "print('------------------')\n",
    "print('Accuracy : ', cross_validate_result)\n",
    "print('Precision : ',cross_validate_precision)\n",
    "print('Recall : ',cross_validate_recall)"
   ]
  },
  {
   "cell_type": "code",
   "execution_count": 130,
   "id": "eaf147cd",
   "metadata": {},
   "outputs": [
    {
     "data": {
      "image/png": "[encoded data removed]",
      "text/plain": [
       "<Figure size 640x480 with 1 Axes>"
      ]
     },
     "metadata": {},
     "output_type": "display_data"
    }
   ],
   "source": [
    "# # Plotting a line plot\n",
    "# print(cross_validate_precision)\n",
    "array = {'Accuracy' :  cross_validate_result, \n",
    "        'Precision' :  cross_validate_precision ,\n",
    "        'Recall' :  cross_validate_recall}\n",
    "pd.DataFrame(array).plot(kind='line', marker='o')\n",
    "# Display the plot\n",
    "plt.title('Percent')\n",
    "plt.xlabel('Number of Neighbours')\n",
    "plt.ylabel('Percent')\n",
    "plt.show()"
   ]
  },
  {
   "cell_type": "markdown",
   "id": "fb067bd1",
   "metadata": {},
   "source": [
    "# Model 5 : LASSO and Random Forest"
   ]
  },
  {
   "cell_type": "code",
   "execution_count": 31,
   "id": "bdcf95c9",
   "metadata": {},
   "outputs": [],
   "source": [
    "# LASSO \n",
    "lasso = linear_model.Lasso(alpha=0.01)\n",
    "lasso.fit(X_smote, y_smote)\n",
    "y_pred = lasso.predict(X_OOS_test)\n",
    "# turn the continous value into classification via simple >= 0.5 is 1 \n",
    "y_pred_classification = [1 if x >= 0.5 else 0 for x in y_pred]\n",
    "# See LASSO coefficient that is 0 \n",
    "lasso_coefficients = pd.Series(lasso.coef_)\n",
    "non_zero_lasso_coefficients = lasso_coefficients[lasso_coefficients != 0]"
   ]
  },
  {
   "cell_type": "markdown",
   "id": "509d90a7",
   "metadata": {},
   "source": [
    "Let's see which variables LASSO did not decrease to 0. "
   ]
  },
  {
   "cell_type": "code",
   "execution_count": 32,
   "id": "fefa3fde",
   "metadata": {},
   "outputs": [
    {
     "name": "stdout",
     "output_type": "stream",
     "text": [
      "loan_amount  :  -5.816113360981448e-08\n",
      "term  :  -0.0001995884378351399\n",
      "property_value  :  1.1366373088839135e-07\n",
      "income  :  -2.8484234173342674e-06\n",
      "Credit_Score  :  1.5168029461767876e-05\n",
      "LTV  :  0.0023575462464294904\n",
      "dtir1  :  0.0022116553252926768\n",
      "Gender_Joint  :  -0.16993308046198513\n",
      "Gender_Male  :  -0.18190660170861853\n",
      "Gender_Sex Not Available  :  -0.08075185921184395\n",
      "approv_in_adv_pre  :  -0.0949568631991573\n",
      "business_or_commercial_nob/c  :  -0.11911310513936454\n",
      "Neg_ammortization_not_neg  :  -0.16050474842638116\n",
      "lump_sum_payment_not_lpsm  :  -0.15365042821849476\n",
      "occupancy_type_pr  :  -0.07244593801328064\n",
      "credit_type_CRIF  :  -0.12114639088619054\n",
      "credit_type_EXP  :  -0.12154764392055876\n",
      "co-applicant_credit_type_EXP  :  -0.10966368228453498\n",
      "age_35-44  :  -0.1974254103427515\n",
      "age_45-54  :  -0.17391983421791044\n",
      "age_55-64  :  -0.14874290251309472\n",
      "age_65-74  :  -0.11881749043666376\n",
      "Region_south  :  -0.04644224602980309\n",
      "['loan_amount', 'term', 'property_value', 'income', 'Credit_Score', 'LTV', 'dtir1', 'Gender_Joint', 'Gender_Male', 'Gender_Sex Not Available', 'approv_in_adv_pre', 'business_or_commercial_nob/c', 'Neg_ammortization_not_neg', 'lump_sum_payment_not_lpsm', 'occupancy_type_pr', 'credit_type_CRIF', 'credit_type_EXP', 'co-applicant_credit_type_EXP', 'age_35-44', 'age_45-54', 'age_55-64', 'age_65-74', 'Region_south']\n"
     ]
    }
   ],
   "source": [
    "column_names = df.drop('Status', axis=1).columns\n",
    "lasso_col_names = []\n",
    "for i in range(len(lasso.coef_)):\n",
    "    if lasso.coef_[i] != 0:\n",
    "        lasso_col_names.append(column_names[i])\n",
    "        print(column_names[i], ' : ' , lasso.coef_[i])\n",
    "\n",
    "print(lasso_col_names)"
   ]
  },
  {
   "cell_type": "code",
   "execution_count": 144,
   "id": "e3f75b5d",
   "metadata": {},
   "outputs": [
    {
     "name": "stdout",
     "output_type": "stream",
     "text": [
      "RND Forest Model Recall :  0.6139464375947449\n",
      "RND Forest Precision :  0.23610571317528178\n",
      "RND Forest and LASSO MSE :  0.38919053342728066\n",
      "RND Forest and LASSO f1 :  0.3410526315789474\n"
     ]
    }
   ],
   "source": [
    "X_lasso_rf_train = X_smote[lasso_col_names]\n",
    "X_lasso_rf_test = X_OOS_test[lasso_col_names]\n",
    "random_forest = RandomForestClassifier(n_estimators = 100, max_depth=5, random_state=0)\n",
    "random_forest.fit(X_lasso_rf_train, y_smote)\n",
    "y_pred = random_forest.predict(X_lasso_rf_test)\n",
    "print(\"RND Forest Model Recall : \" , recall_score(y_OOS_test, y_pred))\n",
    "print(\"RND Forest Precision : \", precision_score(y_OOS_test,y_pred))\n",
    "print(\"RND Forest and LASSO MSE : \", mean_squared_error(y_OOS_test,y_pred))\n",
    "print(\"RND Forest and LASSO f1 : \", f1_score(y_OOS_test,y_pred))\n"
   ]
  },
  {
   "cell_type": "markdown",
   "id": "c07f5f6a",
   "metadata": {},
   "source": [
    "## Cross Validation for LASSO and randomforest"
   ]
  },
  {
   "cell_type": "code",
   "execution_count": 64,
   "id": "778dc1e1",
   "metadata": {},
   "outputs": [
    {
     "name": "stdout",
     "output_type": "stream",
     "text": [
      "Depth of Tree :  2  Number of Trees  5\n",
      "Accuracy : 0.5898970807910194\n",
      "Precision : 0.5600514433592819\n",
      "Recall : 0.5960859138716283\n",
      "\n",
      "Depth of Tree :  3  Number of Trees  5\n",
      "Accuracy : 0.6028969716073906\n",
      "Precision : 0.6320289001728526\n",
      "Recall : 0.5975296460241809\n",
      "\n",
      "Depth of Tree :  4  Number of Trees  5\n",
      "Accuracy : 0.6066650987112998\n",
      "Precision : 0.598612368126647\n",
      "Recall : 0.6089193795794439\n",
      "\n",
      "Depth of Tree :  2  Number of Trees  10\n",
      "Accuracy : 0.5953731298159273\n",
      "Precision : 0.6041965507061027\n",
      "Recall : 0.593735225239221\n",
      "\n",
      "Depth of Tree :  3  Number of Trees  10\n",
      "Accuracy : 0.6015109811705502\n",
      "Precision : 0.6334501039068922\n",
      "Recall : 0.5955423320631559\n",
      "\n",
      "Depth of Tree :  4  Number of Trees  10\n",
      "Accuracy : 0.6084904183967266\n",
      "Precision : 0.6153576420941061\n",
      "Recall : 0.6072664926564537\n",
      "\n",
      "Depth of Tree :  2  Number of Trees  15\n",
      "Accuracy : 0.5956700913690367\n",
      "Precision : 0.5658451977712038\n",
      "Recall : 0.6022292393645742\n",
      "\n",
      "Depth of Tree :  3  Number of Trees  15\n",
      "Accuracy : 0.603589981948197\n",
      "Precision : 0.6299179156177706\n",
      "Recall : 0.5985581894898633\n",
      "\n",
      "Depth of Tree :  4  Number of Trees  15\n",
      "Accuracy : 0.6090163273265083\n",
      "Precision : 0.6244746885627103\n",
      "Recall : 0.60579800503992\n",
      "\n",
      "------------------\n",
      "Accuracy :  {5: {2: 0.5898970807910194, 3: 0.6028969716073906, 4: 0.6066650987112998}, 10: {2: 0.5953731298159273, 3: 0.6015109811705502, 4: 0.6084904183967266}, 15: {2: 0.5956700913690367, 3: 0.603589981948197, 4: 0.6090163273265083}}\n",
      "Precision :  {5: {2: 0.5960859138716283, 3: 0.5975296460241809, 4: 0.6089193795794439}, 10: {2: 0.593735225239221, 3: 0.5955423320631559, 4: 0.6072664926564537}, 15: {2: 0.6022292393645742, 3: 0.5985581894898633, 4: 0.60579800503992}}\n",
      "Recall :  {5: {2: 0.5600514433592819, 3: 0.6320289001728526, 4: 0.598612368126647}, 10: {2: 0.6041965507061027, 3: 0.6334501039068922, 4: 0.6153576420941061}, 15: {2: 0.5658451977712038, 3: 0.6299179156177706, 4: 0.6244746885627103}}\n"
     ]
    }
   ],
   "source": [
    "# CV in Trees  \n",
    "# Set Hyperparameter (Lambda) values to cross validate here !!!!! \n",
    "max_depth = [2, 3, 4]\n",
    "number_of_trees = [5,10,15] \n",
    "\n",
    "cross_validate_result = create_dictionary(number_of_trees,max_depth)\n",
    "cross_validate_recall = create_dictionary(number_of_trees,max_depth)\n",
    "cross_validate_precision = create_dictionary(number_of_trees,max_depth) \n",
    "\n",
    "for tree in number_of_trees: \n",
    "    for depth in max_depth:\n",
    "        print('Depth of Tree : ', depth, ' Number of Trees ', tree)\n",
    "        accuracies = []\n",
    "        recall_scores = [] \n",
    "        precision_scores = [] \n",
    "        random_forest_cv = RandomForestClassifier(n_estimators = tree, max_depth=depth)\n",
    "        for train_index, test_index in cv.split(X_smote):\n",
    "            # change to loc to define the rows in the dataframe \n",
    "            X_cv_train, X_cv_test, y_cv_train, y_cv_test = X_lasso_rf_train.iloc[train_index], X_lasso_rf_train.iloc[test_index], y_smote.iloc[train_index], y_smote.iloc[test_index]\n",
    "            random_forest_cv.fit(X_cv_train, y_cv_train)\n",
    "            y_pred = random_forest_cv.predict(X_cv_test)\n",
    "\n",
    "            #Cross-Validation Prediction Error\n",
    "            score = random_forest_cv.score(X_cv_test, y_cv_test)\n",
    "            accuracies.append(score)\n",
    "            recall_scores.append(recall_score(y_cv_test, y_pred))\n",
    "            precision_scores.append(precision_score(y_cv_test,y_pred))\n",
    "        \n",
    "        cross_validate_result[tree][depth] = (sum(accuracies)/len(accuracies))\n",
    "        cross_validate_recall[tree][depth] = (sum(recall_scores)/len(recall_scores))\n",
    "        cross_validate_precision[tree][depth] = (sum(precision_scores)/len(precision_scores))\n",
    "\n",
    "        print(\"Accuracy : \" + str((sum(accuracies)/len(accuracies))))\n",
    "        print(\"Precision : \" + str((sum(recall_scores)/len(recall_scores))))\n",
    "        print(\"Recall : \" + str((sum(precision_scores)/len(precision_scores))))\n",
    "        print() \n",
    "# At the end you'll see what the value of each LASSO paramter is\n",
    "print('------------------')\n",
    "print('Accuracy : ', cross_validate_result)\n",
    "print('Precision : ',cross_validate_precision)\n",
    "print('Recall : ',cross_validate_recall)"
   ]
  },
  {
   "cell_type": "markdown",
   "id": "65f076c1",
   "metadata": {},
   "source": [
    "# Model 6 : Gradient Boosting "
   ]
  },
  {
   "cell_type": "markdown",
   "id": "ac8a225a",
   "metadata": {},
   "source": [
    "From the results above, we see that the OOS results could do a lot better. In this next model, we tried the "
   ]
  },
  {
   "cell_type": "code",
   "execution_count": 15,
   "id": "d10b6995",
   "metadata": {},
   "outputs": [
    {
     "name": "stdout",
     "output_type": "stream",
     "text": [
      "Gradient Boosting Accuracy :  0.8529862809300783\n",
      "Gradient Boosting Recall :  0.3309752400202122\n",
      "Gradient Boosting Precision :  0.5930285196921684\n",
      "Gradient Boosting f1 :  0.4248419004378141\n",
      "Gradient Boosting Mean Squared Error :  0.14701371906992167\n"
     ]
    }
   ],
   "source": [
    "from sklearn.ensemble import GradientBoostingClassifier\n",
    "\n",
    "clf = GradientBoostingClassifier(n_estimators=100, learning_rate=0.5, max_depth=5, random_state=0).fit(X_smote, y_smote)\n",
    "y_pred = clf.predict(X_OOS_test)\n",
    "print(\"Gradient Boosting Accuracy : \" , accuracy_score(y_OOS_test, y_pred))\n",
    "print(\"Gradient Boosting Recall : \" , recall_score(y_OOS_test, y_pred))\n",
    "print(\"Gradient Boosting Precision : \", precision_score(y_OOS_test,y_pred))\n",
    "print(\"Gradient Boosting f1 : \", f1_score(y_OOS_test,y_pred))\n",
    "print(\"Gradient Boosting Mean Squared Error : \", mean_squared_error(y_OOS_test,y_pred))"
   ]
  },
  {
   "cell_type": "markdown",
   "id": "961eae6e",
   "metadata": {},
   "source": [
    "## Cross Validation for Gradient Boosting"
   ]
  },
  {
   "cell_type": "code",
   "execution_count": 22,
   "id": "922bba38",
   "metadata": {},
   "outputs": [
    {
     "name": "stdout",
     "output_type": "stream",
     "text": [
      "Depth of Tree :  3  Learning rate  0.01\n",
      "Accuracy : 0.7767389544932674\n",
      "Precision : 0.7838862288907824\n",
      "Recall : 0.7728541682170349\n",
      "\n",
      "Depth of Tree :  5  Learning rate  0.01\n",
      "Accuracy : 0.812397141022144\n",
      "Precision : 0.7909555946935181\n",
      "Recall : 0.8264105389470753\n",
      "\n",
      "Depth of Tree :  3  Learning rate  0.1\n",
      "Accuracy : 0.8604672827690175\n",
      "Precision : 0.826632744327712\n",
      "Recall : 0.8866323853623914\n",
      "\n",
      "Depth of Tree :  5  Learning rate  0.1\n",
      "Accuracy : 0.8805887991440562\n",
      "Precision : 0.844553733411118\n",
      "Recall : 0.9101551190817162\n",
      "\n",
      "------------------\n",
      "Accuracy :  {0.01: {3: 0.7767389544932674, 5: 0.812397141022144}, 0.1: {3: 0.8604672827690175, 5: 0.8805887991440562}}\n",
      "Precision :  {0.01: {3: 0.7728541682170349, 5: 0.8264105389470753}, 0.1: {3: 0.8866323853623914, 5: 0.9101551190817162}}\n",
      "Recall :  {0.01: {3: 0.7838862288907824, 5: 0.7909555946935181}, 0.1: {3: 0.826632744327712, 5: 0.844553733411118}}\n"
     ]
    }
   ],
   "source": [
    "# CV in Trees \n",
    "# Set Hyperparameter (Lambda) values to cross validate here !!!!!\n",
    "learning_rates = [0.01,0.1,0.5]\n",
    "max_depth = [3,5]\n",
    "\n",
    "cross_validate_result = create_dictionary(learning_rates,max_depth)\n",
    "cross_validate_recall = create_dictionary(learning_rates,max_depth)\n",
    "cross_validate_precision = create_dictionary(learning_rates,max_depth) \n",
    "\n",
    "for rate in learning_rates: \n",
    "    for depth in max_depth:\n",
    "        print('Depth of Tree : ', depth, ' Learning rate ', rate)\n",
    "        accuracies = []\n",
    "        recall_scores = [] \n",
    "        precision_scores = [] \n",
    "        clf = GradientBoostingClassifier(n_estimators=100, learning_rate=rate, max_depth=depth, random_state=0)\n",
    "        for train_index, test_index in cv.split(X_smote):\n",
    "            # change to loc to define the rows in the dataframe \n",
    "            X_cv_train, X_cv_test, y_cv_train, y_cv_test = X_smote.iloc[train_index], X_smote.iloc[test_index], y_smote.iloc[train_index], y_smote.iloc[test_index]\n",
    "            clf.fit(X_cv_train, y_cv_train)\n",
    "            y_pred = clf.predict(X_cv_test)\n",
    "\n",
    "            #Cross-Validation Prediction Error\n",
    "            score = clf.score(X_cv_test, y_cv_test)\n",
    "            accuracies.append(score)\n",
    "            recall_scores.append(recall_score(y_cv_test, y_pred))\n",
    "            precision_scores.append(precision_score(y_cv_test,y_pred))\n",
    "        \n",
    "        cross_validate_result[rate][depth] = (sum(accuracies)/len(accuracies))\n",
    "        cross_validate_recall[rate][depth] = (sum(recall_scores)/len(recall_scores))\n",
    "        cross_validate_precision[rate][depth] = (sum(precision_scores)/len(precision_scores))\n",
    "\n",
    "        print(\"Accuracy : \" + str((sum(accuracies)/len(accuracies))))\n",
    "        print(\"Precision : \" + str((sum(recall_scores)/len(recall_scores))))\n",
    "        print(\"Recall : \" + str((sum(precision_scores)/len(precision_scores))))\n",
    "        print() \n",
    "# At the end you'll see what the value of each LASSO paramter is\n",
    "print('------------------')\n",
    "print('Accuracy : ', cross_validate_result)\n",
    "print('Precision : ',cross_validate_precision)\n",
    "print('Recall : ',cross_validate_recall)"
   ]
  },
  {
   "cell_type": "code",
   "execution_count": 17,
   "id": "37c75445",
   "metadata": {},
   "outputs": [],
   "source": [
    "def plot_result(dataframe, X_axis, Y_axis, title):\n",
    "    results = pd.DataFrame.from_dict(dataframe, orient='index')\n",
    "    # # Plotting a line plot\n",
    "    results.plot(kind='line', marker='o')\n",
    "\n",
    "    # Display the plot\n",
    "    plt.title(title)\n",
    "    plt.xlabel(X_axis)\n",
    "    plt.ylabel(Y_axis)\n",
    "    plt.show()"
   ]
  },
  {
   "cell_type": "code",
   "execution_count": 28,
   "id": "109d5601",
   "metadata": {},
   "outputs": [],
   "source": [
    "plot_result(cross_validate_result, 'Learning Rate', 'Accuracy', 'Accuracy')"
   ]
  },
  {
   "cell_type": "code",
   "execution_count": 29,
   "id": "9b46ef40",
   "metadata": {},
   "outputs": [],
   "source": [
    "plot_result(cross_validate_recall, 'Learning Rate', 'Recall', 'Recall')"
   ]
  },
  {
   "cell_type": "code",
   "execution_count": 30,
   "id": "df01d6f2",
   "metadata": {},
   "outputs": [],
   "source": [
    "plot_result(cross_validate_recall, 'Learning Rate', 'Precision', 'Precision')"
   ]
  },
  {
   "cell_type": "markdown",
   "id": "287ad7b0",
   "metadata": {},
   "source": [
    "# Model 7 : Adaboost"
   ]
  },
  {
   "cell_type": "code",
   "execution_count": 27,
   "id": "32077438",
   "metadata": {},
   "outputs": [],
   "source": [
    "# Create a weak learner (a stump)\n",
    "weak_learner = DecisionTreeClassifier(max_depth=1)\n",
    "\n",
    "# Create an AdaBoost classifier using the weak learner\n",
    "adaboost_classifier = AdaBoostClassifier(estimator=weak_learner, n_estimators=1000, random_state=0)\n",
    "\n",
    "# Train the AdaBoost classifier\n",
    "adaboost_classifier.fit(X_smote, y_smote)\n",
    "\n",
    "y_pred = adaboost_classifier.predict(X_OOS_test)\n",
    "print(\"Adaboost Accuracy : \" , accuracy_score(y_OOS_test, y_pred))\n",
    "print(\"Adaboost Recall : \" , recall_score(y_OOS_test, y_pred))\n",
    "print(\"Adaboost Precision : \", precision_score(y_OOS_test,y_pred))\n",
    "print(\"Adaboost f1 : \", f1_score(y_OOS_test,y_pred))\n",
    "print(\"Adaboost MSE : \", mean_squared_error(y_OOS_test,y_pred))"
   ]
  },
  {
   "cell_type": "markdown",
   "id": "f192c356",
   "metadata": {},
   "source": [
    "### Cross Validation for Adaboost"
   ]
  },
  {
   "cell_type": "code",
   "execution_count": 90,
   "id": "b942138f",
   "metadata": {},
   "outputs": [
    {
     "name": "stdout",
     "output_type": "stream",
     "text": [
      "Depth of Tree :  50  Learning rate  0\n",
      "Accuracy : 0.8511118759380258\n",
      "Precision : 0.8349574334837758\n",
      "Recall : 0.8628386999931793\n",
      "\n",
      "Depth of Tree :  100  Learning rate  0\n",
      "Accuracy : 0.8557772004361235\n",
      "Precision : 0.837668103729779\n",
      "Recall : 0.8691481835156616\n",
      "\n",
      "Depth of Tree :  250  Learning rate  0\n",
      "Accuracy : 0.8618903747362919\n",
      "Precision : 0.8423074236485156\n",
      "Recall : 0.8766470530523236\n",
      "\n",
      "Depth of Tree :  500  Learning rate  0\n",
      "Accuracy : 0.868900729585459\n",
      "Precision : 0.848261189281027\n",
      "Recall : 0.8847872546225078\n",
      "\n",
      "------------------\n",
      "Accuracy :  {0: {50: 0.8511118759380258, 100: 0.8557772004361235, 250: 0.8618903747362919, 500: 0.868900729585459}}\n",
      "Precision :  {0: {50: 0.8628386999931793, 100: 0.8691481835156616, 250: 0.8766470530523236, 500: 0.8847872546225078}}\n",
      "Recall :  {0: {50: 0.8349574334837758, 100: 0.837668103729779, 250: 0.8423074236485156, 500: 0.848261189281027}}\n"
     ]
    }
   ],
   "source": [
    "# CV in Trees \n",
    "# Set Hyperparameter (Lambda) values to cross validate here !!!!!\n",
    "learning_rates = [0]\n",
    "number_of_trees = [50,100,250,500]\n",
    "\n",
    "cross_validate_result = create_dictionary(learning_rates,number_of_trees)\n",
    "cross_validate_recall = create_dictionary(learning_rates,number_of_trees)\n",
    "cross_validate_precision = create_dictionary(learning_rates,number_of_trees) \n",
    "\n",
    "for rate in learning_rates: \n",
    "    for tree in number_of_trees:\n",
    "        print('Depth of Tree : ', tree, ' Learning rate ', rate)\n",
    "        accuracies = []\n",
    "        recall_scores = [] \n",
    "        precision_scores = [] \n",
    "        adaboost_classifier = AdaBoostClassifier(estimator=weak_learner, n_estimators=tree, random_state=0)\n",
    "        for train_index, test_index in cv.split(X_smote):\n",
    "            # change to loc to define the rows in the dataframe \n",
    "            X_cv_train, X_cv_test, y_cv_train, y_cv_test = X_smote.iloc[train_index], X_smote.iloc[test_index], y_smote.iloc[train_index], y_smote.iloc[test_index]\n",
    "            adaboost_classifier.fit(X_cv_train, y_cv_train)\n",
    "            y_pred = adaboost_classifier.predict(X_cv_test)\n",
    "\n",
    "            #Cross-Validation Prediction Error\n",
    "            score = adaboost_classifier.score(X_cv_test, y_cv_test)\n",
    "            accuracies.append(score)\n",
    "            recall_scores.append(recall_score(y_cv_test, y_pred))\n",
    "            precision_scores.append(precision_score(y_cv_test,y_pred))\n",
    "        \n",
    "        cross_validate_result[rate][tree] = (sum(accuracies)/len(accuracies))\n",
    "        cross_validate_recall[rate][tree] = (sum(recall_scores)/len(recall_scores))\n",
    "        cross_validate_precision[rate][tree] = (sum(precision_scores)/len(precision_scores))\n",
    "\n",
    "        print(\"Accuracy : \" + str((sum(accuracies)/len(accuracies))))\n",
    "        print(\"Precision : \" + str((sum(recall_scores)/len(recall_scores))))\n",
    "        print(\"Recall : \" + str((sum(precision_scores)/len(precision_scores))))\n",
    "        print() \n",
    "# At the end you'll see what the value of each LASSO paramter is\n",
    "print('------------------')\n",
    "print('Accuracy : ', cross_validate_result)\n",
    "print('Precision : ',cross_validate_precision)\n",
    "print('Recall : ',cross_validate_recall)"
   ]
  },
  {
   "cell_type": "code",
   "execution_count": 93,
   "id": "cb607493",
   "metadata": {},
   "outputs": [
    {
     "data": {
      "image/png": "[encoded data removed]",
      "text/plain": [
       "<Figure size 640x480 with 1 Axes>"
      ]
     },
     "metadata": {},
     "output_type": "display_data"
    }
   ],
   "source": [
    "array = {'Accuracy' :  cross_validate_result, \n",
    "        'Precision' :  cross_validate_precision ,\n",
    "        'Recall' :  cross_validate_recall}\n",
    "\n",
    "pd.DataFrame(array).plot(kind='line', marker='o')\n",
    "# Display the plot\n",
    "plt.title('Percent')\n",
    "plt.xlabel('Number of Trees')\n",
    "plt.ylabel('Percent')\n",
    "plt.show()"
   ]
  },
  {
   "cell_type": "markdown",
   "id": "b500ec7e",
   "metadata": {},
   "source": [
    "# Model 8 : XGBoost"
   ]
  },
  {
   "cell_type": "code",
   "execution_count": 177,
   "id": "ae5b42ec",
   "metadata": {},
   "outputs": [
    {
     "name": "stdout",
     "output_type": "stream",
     "text": [
      "[0 0 0 ... 0 0 0]\n"
     ]
    }
   ],
   "source": [
    "\n",
    "X_smote_xg = X_smote.rename(columns={'age_<25': 'less_than_25'})\n",
    "X_OOS_test_xg = X_OOS_test.rename(columns={'age_<25': 'less_than_25'})\n",
    "\n",
    "dtrain = xgb.DMatrix(X_smote_xg, label=y_smote)\n",
    "dtest = xgb.DMatrix(X_OOS_test_xg, label=y_OOS_test)\n",
    "\n",
    "# Set hyperparameters\n",
    "params = {\n",
    "    'objective': 'binary:logistic',\n",
    "    'eval_metric': 'logloss',\n",
    "    'max_depth': 3,\n",
    "    'eta': 0.1,\n",
    "    'subsample': 0.8\n",
    "}\n",
    "\n",
    "XGBoost = XGBClassifier(objective='binary:logistic', random_state=42,n_estimators=200,max_depth=7,learning_rate=0.1)\n",
    "XGBoost.fit(X_smote_xg,y_smote)\n",
    "\n",
    "threshold = 0.5\n",
    "\n",
    "# Make predictions on the test set\n",
    "y_pred_prob = XGBoost.predict(X_OOS_test_xg)\n",
    "y_pred = [1 if pred > 0.5 else 0 for pred in y_pred_prob]\n"
   ]
  },
  {
   "cell_type": "markdown",
   "id": "778e2c88",
   "metadata": {},
   "source": [
    "### Confusion Matrix for XGBoost "
   ]
  },
  {
   "cell_type": "code",
   "execution_count": 176,
   "id": "8cdfb83d",
   "metadata": {},
   "outputs": [
    {
     "data": {
      "image/png": "[encoded data removed]",
      "text/plain": [
       "<Figure size 800x600 with 1 Axes>"
      ]
     },
     "metadata": {},
     "output_type": "display_data"
    }
   ],
   "source": [
    "# Compute the confusion matrix\n",
    "cm = confusion_matrix(y_OOS_test, y_pred)\n",
    "\n",
    "# Plot the confusion matrix as a heatmap\n",
    "plt.figure(figsize=(8, 6))\n",
    "sns.heatmap(cm, annot=True, fmt='d', cmap='Blues', cbar=False,\n",
    "            xticklabels=['Not Default', 'Default'],\n",
    "            yticklabels=['Not Default', 'Default'])\n",
    "plt.title('Confusion Matrix')\n",
    "plt.xlabel('Predicted')\n",
    "plt.ylabel('Actual')\n",
    "plt.show()"
   ]
  },
  {
   "cell_type": "markdown",
   "id": "d54803ed",
   "metadata": {},
   "source": [
    "### Cross Validation for XGBoost"
   ]
  },
  {
   "cell_type": "code",
   "execution_count": 26,
   "id": "65de7957",
   "metadata": {},
   "outputs": [],
   "source": [
    "from xgboost import XGBClassifier  # Assuming you are using XGBoost for classification; use XGBRegressor for regression\n",
    "\n",
    "XGBoost = XGBClassifier(objective='binary:logistic', random_state=42)\n",
    "\n",
    "# Define the hyperparameters and their respective values to be explored\n",
    "param_grid = {\n",
    "    'max_depth': [1, 3, 5, 10, 20, 30],\n",
    "    'learning_rate': [0.1, 0.01, 0.001, 0.0001],\n",
    "    'n_estimators': [50, 100, 200, 300, 500 ]\n",
    "    # Add more hyperparameters and values as needed\n",
    "}\n",
    "\n",
    "# Create the GridSearchCV object\n",
    "scoring = {'precision': make_scorer(precision_score), 'recall': make_scorer(recall_score)}\n",
    "grid_search = GridSearchCV(XGBoost, param_grid, cv=cv, scoring=scoring,refit='precision', n_jobs=-1)\n",
    "\n",
    "# Fit the model with different hyperparameter combinations\n",
    "grid_search.fit(X_smote_xg, y_smote)\n",
    "\n",
    "# Print the best hyperparameters and corresponding accuracy\n",
    "best_params = grid_search.best_params_\n",
    "best_accuracy = grid_search.best_score_\n",
    "\n",
    "print(f'Best Hyperparameters: {best_params}')\n",
    "print(f'Best Cross-Validation Accuracy: {best_accuracy:.4f}')"
   ]
  },
  {
   "cell_type": "markdown",
   "id": "8d9c9f67",
   "metadata": {},
   "source": [
    "# Model 9 : Changing the threshold for XGBoost  "
   ]
  },
  {
   "cell_type": "markdown",
   "id": "5db2199d",
   "metadata": {},
   "source": [
    "### XGBoost Cross Validate to find the best threshold"
   ]
  },
  {
   "cell_type": "code",
   "execution_count": 190,
   "id": "d380f303",
   "metadata": {},
   "outputs": [
    {
     "name": "stdout",
     "output_type": "stream",
     "text": [
      "Threshold :  0.2\n",
      "Accuracy : 0.8027694900826683\n",
      "Precision : 0.9457185400672257\n",
      "Recall : 0.7354633165013805\n",
      "\n",
      "Threshold :  0.25\n",
      "Accuracy : 0.8371035432428636\n",
      "Precision : 0.9311525271309199\n",
      "Recall : 0.7837398023365946\n",
      "\n",
      "Threshold :  0.3\n",
      "Accuracy : 0.8619708267882912\n",
      "Precision : 0.9177758575914524\n",
      "Recall : 0.825635414616092\n",
      "\n",
      "Threshold :  0.35\n",
      "Accuracy : 0.880025749442205\n",
      "Precision : 0.9037939689462094\n",
      "Recall : 0.862795756032224\n",
      "\n",
      "Threshold :  0.4\n",
      "Accuracy : 0.8917818594021367\n",
      "Precision : 0.8886419860204237\n",
      "Recall : 0.8942637174307843\n",
      "\n",
      "Threshold :  0.45\n",
      "Accuracy : 0.8984209772795794\n",
      "Precision : 0.8731882745005818\n",
      "Recall : 0.9196055320065014\n",
      "\n",
      "Threshold :  0.5\n",
      "Accuracy : 0.8997883997231677\n",
      "Precision : 0.8559396590819375\n",
      "Recall : 0.9382287573383132\n",
      "\n",
      "------------------\n",
      "Accuracy :  {20.0: 0.8027694900826683, 25.0: 0.8371035432428636, 30.0: 0.8619708267882912, 35.0: 0.880025749442205, 40.0: 0.8917818594021367, 45.0: 0.8984209772795794, 50.0: 0.8997883997231677}\n",
      "Precision :  {20.0: 0.7354633165013805, 25.0: 0.7837398023365946, 30.0: 0.825635414616092, 35.0: 0.862795756032224, 40.0: 0.8942637174307843, 45.0: 0.9196055320065014, 50.0: 0.9382287573383132}\n",
      "Recall :  {20.0: 0.9457185400672257, 25.0: 0.9311525271309199, 30.0: 0.9177758575914524, 35.0: 0.9037939689462094, 40.0: 0.8886419860204237, 45.0: 0.8731882745005818, 50.0: 0.8559396590819375}\n"
     ]
    }
   ],
   "source": [
    "# CV in Trees \n",
    "# Set Hyperparameter (Lambda) values to cross validate here !!!!!\n",
    "thresholds = [0.2, 0.25, 0.3 , 0.35, 0.4, 0.45, 0.5 ] \n",
    "\n",
    "cross_validate_result = {}\n",
    "cross_validate_recall = {} \n",
    "cross_validate_precision = {} \n",
    "\n",
    "for threshold in thresholds: \n",
    "    print('Threshold : ', threshold)\n",
    "    accuracies = []\n",
    "    recall_scores = [] \n",
    "    precision_scores = [] \n",
    "    XGBoost = xgb.XGBRegressor(objective='reg:squarederror', seed=42,n_estimators=200,max_depth=7,learning_rate=0.1)\n",
    "    for train_index, test_index in cv.split(X_smote_xg):\n",
    "        # change to loc to define the rows in the dataframe \n",
    "        X_cv_train, X_cv_test, y_cv_train, y_cv_test = X_smote_xg.iloc[train_index], X_smote_xg.iloc[test_index], y_smote.iloc[train_index], y_smote.iloc[test_index]\n",
    "        XGBoost.fit(X_cv_train, y_cv_train)\n",
    "        y_pred_prob = XGBoost.predict(X_cv_test)\n",
    "\n",
    "        # Make predictions on the test set\n",
    "        y_pred = [1 if pred > threshold else 0 for pred in y_pred_prob]\n",
    "\n",
    "        #Cross-Validation Prediction Error\n",
    "\n",
    "        accuracies.append(accuracy_score(y_cv_test, y_pred))\n",
    "        recall_scores.append(recall_score(y_cv_test, y_pred))\n",
    "        precision_scores.append(precision_score(y_cv_test,y_pred))\n",
    "    \n",
    "    cross_validate_result[threshold * 100] = (sum(accuracies)/len(accuracies))\n",
    "    cross_validate_recall[threshold * 100] = (sum(recall_scores)/len(recall_scores))\n",
    "    cross_validate_precision[threshold * 100] = (sum(precision_scores)/len(precision_scores))\n",
    "\n",
    "    print(\"Accuracy : \" + str((sum(accuracies)/len(accuracies))))\n",
    "    print(\"Precision : \" + str((sum(recall_scores)/len(recall_scores))))\n",
    "    print(\"Recall : \" + str((sum(precision_scores)/len(precision_scores))))\n",
    "    print() \n",
    "    \n",
    "# At the end you'll see what the value of each LASSO paramter is\n",
    "print('------------------')\n",
    "print('Accuracy : ', cross_validate_result)\n",
    "print('Precision : ',cross_validate_precision)\n",
    "print('Recall : ',cross_validate_recall)"
   ]
  },
  {
   "cell_type": "code",
   "execution_count": 193,
   "id": "b6a195df",
   "metadata": {},
   "outputs": [
    {
     "data": {
      "image/png": "[encoded data removed]",
      "text/plain": [
       "<Figure size 640x480 with 1 Axes>"
      ]
     },
     "metadata": {},
     "output_type": "display_data"
    }
   ],
   "source": [
    "array = {'Accuracy' :  cross_validate_result, \n",
    "        'Precision' :  cross_validate_precision ,\n",
    "        'Recall' :  cross_validate_recall}\n",
    "pd.DataFrame(array).plot(kind='line', marker='o')\n",
    "\n",
    "# Display the plot\n",
    "plt.title('Threshold Adjustment Cross Validation')\n",
    "plt.xlabel('Threshold (in %)')\n",
    "plt.ylabel('Percent')\n",
    "plt.show()"
   ]
  },
  {
   "cell_type": "code",
   "execution_count": 194,
   "id": "cf77810c",
   "metadata": {},
   "outputs": [],
   "source": [
    "threshold = 0.4\n",
    "# Make predictions on the test set\n",
    "y_pred_prob = XGBoost.predict(X_OOS_test_xg)\n",
    "y_pred = [1 if pred > threshold else 0 for pred in y_pred_prob]"
   ]
  },
  {
   "cell_type": "markdown",
   "id": "5eb44c52",
   "metadata": {},
   "source": [
    "# Final Results for XGBoost with adjusted threshold to 0.4 for predicting default "
   ]
  },
  {
   "cell_type": "code",
   "execution_count": 195,
   "id": "1e9bd42e",
   "metadata": {},
   "outputs": [
    {
     "name": "stdout",
     "output_type": "stream",
     "text": [
      "XGBoost Accuracy :  0.8194553819372488\n",
      "XGBoost Recall :  0.44871147043961596\n",
      "XGBoost Precision :  0.44962025316455695\n",
      "XGBoost MSE :  0.18054461806275127\n",
      "XGBoost f1 :  0.44916540212443096\n"
     ]
    }
   ],
   "source": [
    "print(\"XGBoost Accuracy : \" , accuracy_score(y_OOS_test, y_pred))\n",
    "print(\"XGBoost Recall : \" , recall_score(y_OOS_test, y_pred))\n",
    "print(\"XGBoost Precision : \", precision_score(y_OOS_test,y_pred))\n",
    "print(\"XGBoost MSE : \", mean_squared_error(y_OOS_test,y_pred))\n",
    "print(\"XGBoost f1 : \", f1_score(y_OOS_test,y_pred))"
   ]
  }
 ],
 "metadata": {
  "kernelspec": {
   "display_name": "Python 3 (ipykernel)",
   "language": "python",
   "name": "python3"
  },
  "language_info": {
   "codemirror_mode": {
    "name": "ipython",
    "version": 3
   },
   "file_extension": ".py",
   "mimetype": "text/x-python",
   "name": "python",
   "nbconvert_exporter": "python",
   "pygments_lexer": "ipython3",
   "version": "3.11.4"
  }
 },
 "nbformat": 4,
 "nbformat_minor": 5
}
