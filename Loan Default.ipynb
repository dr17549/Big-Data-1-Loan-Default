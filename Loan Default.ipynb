{
 "cells": [
  {
   "cell_type": "code",
   "execution_count": 48,
   "id": "0e0dc808",
   "metadata": {
    "scrolled": true
   },
   "outputs": [],
   "source": [
    "# import libraries\n",
    "\n",
    "# handle dataset \n",
    "import pandas as pd\n",
    "import numpy as np\n",
    "import matplotlib.pyplot as plt\n",
    "import seaborn as sns\n",
    "import plotly.express as px\n",
    "\n",
    "from sklearn.model_selection import KFold\n",
    "from sklearn.linear_model import LogisticRegression\n",
    "from sklearn.metrics import recall_score, precision_score, f1_score, mean_squared_error, make_scorer,accuracy_score\n",
    "from sklearn.ensemble import RandomForestClassifier\n",
    "from sklearn.model_selection import GridSearchCV, train_test_split\n",
    "from sklearn.neighbors import KNeighborsClassifier\n",
    "from sklearn.preprocessing import StandardScaler\n",
    "from sklearn.tree import DecisionTreeClassifier\n",
    "from sklearn.metrics import roc_auc_score, roc_curve, auc\n",
    "from sklearn.ensemble import AdaBoostClassifier\n",
    "from imblearn.pipeline import Pipeline\n",
    "from sklearn.linear_model import Lasso\n",
    "from sklearn.preprocessing import OneHotEncoder\n",
    "\n",
    "\n",
    "\n",
    "from xgboost import XGBClassifier  # Assuming you are using XGBoost for classification; use XGBRegressor for regression\n",
    "import xgboost as xgb \n",
    "\n",
    "from sklearn.metrics import confusion_matrix\n",
    "\n",
    "import pprint\n",
    "from tabulate import tabulate\n",
    "\n",
    "from sklearn import linear_model\n",
    "\n",
    "from imblearn.over_sampling import SMOTE\n",
    "# if there is an error, solve by downgrading to install scikit-learn==1.2.2 \n",
    "# ''' steps : \n",
    "# 1. install pip \n",
    "# 2. uninstall sci-kit \n",
    "# 3. uninstall imblearn\n",
    "# 4. install sci-kit 1.2.2 \n",
    "# 5. install imblearn \n",
    "# '''\n",
    "\n",
    "\n",
    "# Data set from https://www.kaggle.com/datasets/yasserh/loan-default-dataset/data"
   ]
  },
  {
   "cell_type": "markdown",
   "id": "ff898b23",
   "metadata": {},
   "source": [
    "# Data Pre-Processing\n",
    "\n",
    "1. Removed variables that are redundant and uncorrelated to the dependent variable such as ID, year. \n",
    "2. Removed the NAs. "
   ]
  },
  {
   "cell_type": "code",
   "execution_count": 101,
   "id": "2915229e",
   "metadata": {},
   "outputs": [],
   "source": [
    "\n",
    "# 1. Upload the dataset \n",
    "df = pd.read_csv('Loan_Default.csv')\n",
    "# 2. remove some variables that are redundant such as year, ID\n",
    "# 3. Removed Interest_rate_spread and rate_of_interest are dropped due to the fact that their values are NA where the loan has defaulted \n",
    "# 4. Removed open credit , secured by, total units : only has one value or too few observations \n",
    "df = df.drop(['year', 'ID', 'loan_type', 'loan_purpose', 'Interest_rate_spread', \n",
    "              'rate_of_interest', 'open_credit','Upfront_charges','construction_type', \n",
    "              'Secured_by', 'Security_Type','total_units'], axis=1)\n",
    "\n",
    "# 5. Removed NAs \n",
    "df = df.dropna(subset=[\"property_value\"])\n",
    "df = df.dropna(subset=[\"term\"])\n",
    "df = df.dropna(subset=[\"loan_limit\"])\n",
    "df = df.dropna(subset=[\"approv_in_adv\"])\n",
    "df = df.dropna(subset=[\"Neg_ammortization\"])\n",
    "df = df.dropna(subset=[\"income\"])\n",
    "# Drop rows where sex is not available \n",
    "df = df.drop(df[df['Gender'] == 'Not Available'].index)"
   ]
  },
  {
   "cell_type": "markdown",
   "id": "37560335",
   "metadata": {},
   "source": [
    "## Imbalanced dataset \n",
    "Now we check if the dataset is imbalanced or not. As shown below, it is heavily imbalanced where the minority class (default) has fewer observations than the non-defaulters. "
   ]
  },
  {
   "cell_type": "code",
   "execution_count": 4,
   "id": "0968329f",
   "metadata": {},
   "outputs": [
    {
     "name": "stdout",
     "output_type": "stream",
     "text": [
      "0    100978\n",
      "1     19657\n",
      "Name: Status, dtype: int64\n"
     ]
    }
   ],
   "source": [
    "print(df['Status'].value_counts())"
   ]
  },
  {
   "cell_type": "markdown",
   "id": "610faab6",
   "metadata": {},
   "source": [
    "### Dealing with categorical values "
   ]
  },
  {
   "cell_type": "markdown",
   "id": "8622bc97",
   "metadata": {},
   "source": [
    "We deal with categorical value by turning it into dummy variable. \n",
    "\n",
    "Method from : https://towardsdatascience.com/robust-one-hot-encoding-930b5f8943af "
   ]
  },
  {
   "cell_type": "code",
   "execution_count": 102,
   "id": "78b3c2bc",
   "metadata": {},
   "outputs": [],
   "source": [
    "# We turn these columns into dummy variables since they are categorical and drop the original column in the dataframe \n",
    "categorical_columns = ['loan_limit', 'Gender', 'approv_in_adv', 'Credit_Worthiness',\n",
    "       'business_or_commercial', 'Neg_ammortization',\n",
    "       'interest_only', 'lump_sum_payment', 'occupancy_type',\n",
    "        'credit_type', 'co-applicant_credit_type',\n",
    "       'age', 'submission_of_application', 'Region']\n",
    "\n",
    "# Initialize the encoder\n",
    "enc = OneHotEncoder(handle_unknown='ignore')\n",
    "\n",
    "# Fit and transform the data\n",
    "enc_data = enc.fit_transform(df[categorical_columns])\n",
    "\n",
    "# Get feature names\n",
    "feature_names = enc.get_feature_names_out(categorical_columns)\n",
    "\n",
    "# Convert to DataFrame\n",
    "enc_df = pd.DataFrame(enc_data.toarray(), \n",
    "                          columns=feature_names)\n",
    "\n",
    "# Concatenate with the numerical data\n",
    "df = pd.concat([df, enc_df], axis=1)\n",
    "\n",
    "for i in categorical_columns: \n",
    "    df = df.drop(i,axis=1)"
   ]
  },
  {
   "cell_type": "markdown",
   "id": "404c1cc3",
   "metadata": {},
   "source": [
    "# Checking Correlation between values \n",
    "\n",
    "We check for multi-colinearity between variables. "
   ]
  },
  {
   "cell_type": "code",
   "execution_count": 103,
   "id": "03e46568",
   "metadata": {},
   "outputs": [
    {
     "name": "stdout",
     "output_type": "stream",
     "text": [
      "\n",
      "Highly correlated pairs:\n",
      "loan_limit_ncf and loan_limit_cf: -1.0\n",
      "approv_in_adv_pre and approv_in_adv_nopre: -1.0000000000000002\n",
      "Credit_Worthiness_l2 and Credit_Worthiness_l1: -1.0000000000000002\n",
      "business_or_commercial_nob/c and business_or_commercial_b/c: -0.9999999999999987\n",
      "Neg_ammortization_not_neg and Neg_ammortization_neg_amm: -0.9999999999999991\n",
      "interest_only_not_int and interest_only_int_only: -0.9999999999999997\n",
      "lump_sum_payment_not_lpsm and lump_sum_payment_lpsm: -0.9999999999999999\n",
      "occupancy_type_pr and occupancy_type_ir: -0.8274690575059985\n",
      "co-applicant_credit_type_EXP and co-applicant_credit_type_CIB: -0.9999999999999999\n",
      "submission_of_application_to_inst and submission_of_application_not_inst: -0.9999999999999994\n",
      "Region_south and Region_North: -0.8764956446726088\n"
     ]
    }
   ],
   "source": [
    "correlation_matrix = df.corr()\n",
    "\n",
    "# Exclude diagonal elements\n",
    "correlation_matrix_no_diagonal = correlation_matrix.mask(\n",
    "    pd.DataFrame(np.eye(len(correlation_matrix), dtype=bool), correlation_matrix.index, correlation_matrix.columns))\n",
    "\n",
    "# Check for high absolute correlation coefficients\n",
    "threshold = 0.8 \n",
    "highly_correlated_pairs = []\n",
    "\n",
    "for i in range(len(correlation_matrix_no_diagonal.columns)):\n",
    "    for j in range(i):\n",
    "        correlation = correlation_matrix_no_diagonal.iloc[i, j]\n",
    "        if abs(correlation) > threshold:\n",
    "            pair = (correlation_matrix_no_diagonal.columns[i], correlation_matrix_no_diagonal.index[j], correlation)\n",
    "            highly_correlated_pairs.append(pair)\n",
    "\n",
    "if highly_correlated_pairs:\n",
    "    print(\"\\nHighly correlated pairs:\")\n",
    "    for pair in highly_correlated_pairs:\n",
    "        print(f\"{pair[0]} and {pair[1]}: {pair[2]}\")\n",
    "else:\n",
    "    print(\"\\nNo highly correlated pairs found.\")"
   ]
  },
  {
   "cell_type": "code",
   "execution_count": 99,
   "id": "0d25fae8",
   "metadata": {},
   "outputs": [
    {
     "data": {
      "image/png": "[encoded data removed]",
      "text/plain": [
       "<Figure size 800x600 with 2 Axes>"
      ]
     },
     "metadata": {},
     "output_type": "display_data"
    }
   ],
   "source": [
    "# Plot correlation matrix\n",
    "plt.figure(figsize=(8, 6))\n",
    "sns.heatmap(correlation_matrix, cmap='coolwarm')\n",
    "plt.title('Correlation Matrix')\n",
    "plt.show()"
   ]
  },
  {
   "cell_type": "markdown",
   "id": "b2c15010",
   "metadata": {},
   "source": [
    "# Split Train Test dataset\n",
    "\n"
   ]
  },
  {
   "cell_type": "code",
   "execution_count": 9,
   "id": "66b3145c",
   "metadata": {},
   "outputs": [],
   "source": [
    "# define X and y variables as dataframe \n",
    "y = df['Status']\n",
    "X = df.drop('Status',axis=1)\n",
    "X_train, X_OOS_test, y_train, y_OOS_test = train_test_split(X, y, test_size=0.20, random_state=66)"
   ]
  },
  {
   "cell_type": "markdown",
   "id": "c724fb37",
   "metadata": {},
   "source": [
    "# Standardize features"
   ]
  },
  {
   "cell_type": "code",
   "execution_count": 10,
   "id": "58dbf070",
   "metadata": {},
   "outputs": [],
   "source": [
    "scaler = StandardScaler()\n",
    "X_train = scaler.fit_transform(X_train)\n",
    "X_OOS_test = scaler.transform(X_OOS_test)"
   ]
  },
  {
   "cell_type": "markdown",
   "id": "d3e1ae90",
   "metadata": {},
   "source": [
    "## Over Sampling using SMOTE\n",
    "\n",
    "Since we know previously that our data is hihgly imbalanced, we use SMOTE to help us decrease the bias and to help the model learn to identify the minority class. \n"
   ]
  },
  {
   "cell_type": "code",
   "execution_count": 12,
   "id": "1a528c4d",
   "metadata": {},
   "outputs": [],
   "source": [
    "# Over sample using SMOTE\n",
    "# -- by inspecting the data, we see that the minority class is extremely class (fraud \"Class\" == 1)\n",
    "sm = SMOTE(random_state=42)\n",
    "# X_smote, y_smote = sm.fit_resample(X_train, y_train)"
   ]
  },
  {
   "cell_type": "markdown",
   "id": "075f9e3d",
   "metadata": {},
   "source": [
    "## Setup K-Fold Cross Validation "
   ]
  },
  {
   "cell_type": "code",
   "execution_count": 11,
   "id": "5d5baf83",
   "metadata": {},
   "outputs": [],
   "source": [
    "# Set up K-Fold Cross Validation \n",
    "n_splits = 5\n",
    "shuffle = True\n",
    "random_state = 809\n",
    "cv = KFold(n_splits=n_splits, shuffle=shuffle, random_state=random_state)"
   ]
  },
  {
   "cell_type": "markdown",
   "id": "37c02911",
   "metadata": {},
   "source": [
    "# Cross Validation to find best hyper-parameters of each model\n",
    "\n",
    "## Model 1 : Logistic Regression with LASSO and Ridge Regression \n",
    "\n",
    "### 1.1 Cross Validation for Logistic Regression with LASSO "
   ]
  },
  {
   "cell_type": "code",
   "execution_count": 13,
   "id": "27680816",
   "metadata": {},
   "outputs": [
    {
     "name": "stdout",
     "output_type": "stream",
     "text": [
      "Best Parameters: {'lasso_logistic__C': 10}\n",
      "Best Score (Recall): 0.6325239081779868\n"
     ]
    }
   ],
   "source": [
    "# recall_scorer = make_scorer(recall_score)\n",
    "\n",
    "lasso_logistic = LogisticRegression(penalty='l1', solver='saga', max_iter=10000)\n",
    "\n",
    "# Define the pipeline with SMOTE\n",
    "pipeline = Pipeline([\n",
    "    ('sampling', SMOTE(random_state=42)),\n",
    "    ('lasso_logistic', lasso_logistic)\n",
    "])\n",
    "\n",
    "# Define the grid of parameters to search\n",
    "param_grid = {\n",
    "    'lasso_logistic__C': [0.001, 0.01, 0.1, 1, 10, 100],\n",
    "}\n",
    "\n",
    "# Perform grid search with cross-validation\n",
    "grid_search = GridSearchCV(pipeline, param_grid, cv=5, scoring='recall')\n",
    "grid_search.fit(X_train, y_train)\n",
    "\n",
    "# Get the best parameters and best score\n",
    "best_params = grid_search.best_params_\n",
    "best_score = grid_search.best_score_\n",
    "\n",
    "print(\"Best Parameters:\", best_params)\n",
    "print(\"Best Score (Recall):\", best_score)"
   ]
  },
  {
   "cell_type": "code",
   "execution_count": 16,
   "id": "d7bfd85a",
   "metadata": {},
   "outputs": [
    {
     "name": "stdout",
     "output_type": "stream",
     "text": [
      "Recall :  0.6301162203132895\n",
      "Precision :  0.28308740068104427\n",
      "Accuracy :  0.677539685829154\n"
     ]
    }
   ],
   "source": [
    "lasso_logistic = LogisticRegression(penalty='l1', solver='saga', max_iter=10000, C=1/10)\n",
    "X_smote, y_smote = sm.fit_resample(X_train, y_train)\n",
    "lasso_logistic.fit(X_smote, y_smote)\n",
    "y_pred = lasso_logistic.predict(X_OOS_test)\n",
    "print(\"Recall : \" , recall_score(y_OOS_test, y_pred))\n",
    "print(\"Precision : \" , precision_score(y_OOS_test, y_pred))\n",
    "print(\"Accuracy : \" , accuracy_score(y_OOS_test, y_pred))\n"
   ]
  },
  {
   "cell_type": "markdown",
   "id": "6775df32",
   "metadata": {},
   "source": [
    "## Plot the ROC Curve"
   ]
  },
  {
   "cell_type": "code",
   "execution_count": 20,
   "id": "ff5b7245",
   "metadata": {},
   "outputs": [
    {
     "data": {
      "image/png": "[encoded data removed]",
      "text/plain": [
       "<Figure size 800x600 with 1 Axes>"
      ]
     },
     "metadata": {},
     "output_type": "display_data"
    }
   ],
   "source": [
    "# Calculate the ROC curve\n",
    "fpr, tpr, thresholds = roc_curve(y_OOS_test, y_pred)\n",
    "\n",
    "# Calculate the Area Under the Curve (AUC)\n",
    "auc = roc_auc_score(y_OOS_test, y_pred)\n",
    "\n",
    "# Plot ROC curve\n",
    "plt.figure(figsize=(8, 6))\n",
    "plt.plot(fpr, tpr, color='blue', lw=2, label='ROC curve (AUC = %0.2f)' % auc)\n",
    "plt.plot([0, 1], [0, 1], color='gray', linestyle='--')\n",
    "plt.xlim([0.0, 1.0])\n",
    "plt.ylim([0.0, 1.05])\n",
    "plt.xlabel('False Positive Rate')\n",
    "plt.ylabel('True Positive Rate')\n",
    "plt.title('Receiver Operating Characteristic (ROC) Curve')\n",
    "plt.legend(loc='lower right')\n",
    "plt.show()"
   ]
  },
  {
   "cell_type": "markdown",
   "id": "7449ac5f",
   "metadata": {},
   "source": [
    "# Model 2 : Random Forest"
   ]
  },
  {
   "cell_type": "markdown",
   "id": "36d6b565",
   "metadata": {},
   "source": [
    "### 2.1 Cross Validation for Random Forest "
   ]
  },
  {
   "cell_type": "code",
   "execution_count": 21,
   "id": "d5315dd7",
   "metadata": {},
   "outputs": [
    {
     "name": "stdout",
     "output_type": "stream",
     "text": [
      "Best Parameters: {'rf_classifier__max_depth': 3, 'rf_classifier__n_estimators': 100}\n",
      "Best Score (Recall): 0.6427153968057497\n"
     ]
    }
   ],
   "source": [
    "rf_classifier = RandomForestClassifier(random_state=42)\n",
    "\n",
    "# Define the pipeline with SMOTE\n",
    "pipeline = Pipeline([\n",
    "    ('sampling', SMOTE(random_state=42)),\n",
    "    ('rf_classifier', rf_classifier)\n",
    "])\n",
    "\n",
    "# Define the grid of parameters to search\n",
    "param_grid = {\n",
    "    'rf_classifier__n_estimators': [100, 200, 300],  # Number of trees in the forest\n",
    "    'rf_classifier__max_depth': [None, 3, 5],       # Maximum depth of the tree\n",
    "    # 'rf_classifier__min_samples_split': [2, 5, 10],   # Minimum number of samples required to split an internal node\n",
    "    # 'rf_classifier__min_samples_leaf': [1, 2, 4]      # Minimum number of samples required to be at a leaf node\n",
    "}\n",
    "\n",
    "# Perform grid search with cross-validation\n",
    "grid_search = GridSearchCV(pipeline, param_grid, cv=5, scoring='recall')\n",
    "grid_search.fit(X_train, y_train)\n",
    "\n",
    "# Get the best parameters and best score\n",
    "best_params = grid_search.best_params_\n",
    "best_score = grid_search.best_score_\n",
    "\n",
    "print(\"Best Parameters:\", best_params)\n",
    "print(\"Best Score (Recall):\", best_score)"
   ]
  },
  {
   "cell_type": "markdown",
   "id": "032dd257",
   "metadata": {},
   "source": [
    "# Model 3 : KNN "
   ]
  },
  {
   "cell_type": "markdown",
   "id": "318e506b",
   "metadata": {},
   "source": [
    "### 3.1 Cross Validation for KNN "
   ]
  },
  {
   "cell_type": "code",
   "execution_count": 23,
   "id": "b8eaf86f",
   "metadata": {},
   "outputs": [
    {
     "name": "stdout",
     "output_type": "stream",
     "text": [
      "Best Parameters: {'knn_classifier__n_neighbors': 100}\n",
      "Best Score (Recall): 0.6393393774235374\n"
     ]
    }
   ],
   "source": [
    "# Define the KNN classifier\n",
    "knn_classifier = KNeighborsClassifier()\n",
    "\n",
    "# Define SMOTE\n",
    "smote = SMOTE(random_state=42)\n",
    "\n",
    "# Define pipeline with SMOTE and KNN\n",
    "pipeline = Pipeline([\n",
    "    ('sampling', smote),\n",
    "    ('knn_classifier', knn_classifier)\n",
    "])\n",
    "\n",
    "# Define the grid of parameters to search\n",
    "param_grid = {\n",
    "    'knn_classifier__n_neighbors': [1,5,10,20,50,100,200,500],\n",
    "}\n",
    "\n",
    "# Define recall scorer\n",
    "recall_scorer = make_scorer(recall_score)\n",
    "\n",
    "# Perform grid search with cross-validation\n",
    "grid_search = GridSearchCV(pipeline, param_grid, cv=5, scoring=recall_scorer)\n",
    "grid_search.fit(X_train, y_train)\n",
    "\n",
    "# Get the best parameters and best score\n",
    "best_params = grid_search.best_params_\n",
    "best_score = grid_search.best_score_\n",
    "\n",
    "print(\"Best Parameters:\", best_params)\n",
    "print(\"Best Score (Recall):\", best_score)"
   ]
  },
  {
   "cell_type": "markdown",
   "id": "b8041f45",
   "metadata": {},
   "source": [
    "The best hyper-parameter for the number of neighbors is 100. "
   ]
  },
  {
   "cell_type": "markdown",
   "id": "65f076c1",
   "metadata": {},
   "source": [
    "# Model 4 : Gradient Boosting "
   ]
  },
  {
   "cell_type": "markdown",
   "id": "ac8a225a",
   "metadata": {},
   "source": [
    "From the results above, we see that the OOS results could do a lot better. In this next model, we tried the "
   ]
  },
  {
   "cell_type": "code",
   "execution_count": 34,
   "id": "d10b6995",
   "metadata": {},
   "outputs": [
    {
     "name": "stdout",
     "output_type": "stream",
     "text": [
      "Gradient Boosting Accuracy :  0.8610270651137729\n",
      "Gradient Boosting Recall :  0.309499747347145\n",
      "Gradient Boosting Precision :  0.6639566395663956\n",
      "Gradient Boosting f1 :  0.4221954161640531\n",
      "Gradient Boosting Mean Squared Error :  0.13897293488622706\n"
     ]
    }
   ],
   "source": [
    "from sklearn.ensemble import GradientBoostingClassifier\n",
    "\n",
    "sm = SMOTE(random_state=42)\n",
    "clf = GradientBoostingClassifier(n_estimators=100, learning_rate=0.5, max_depth=5, random_state=0).fit(X_train, y_train)\n",
    "y_pred = clf.predict(X_OOS_test)\n",
    "print(\"Gradient Boosting Accuracy : \" , accuracy_score(y_OOS_test, y_pred))\n",
    "print(\"Gradient Boosting Recall : \" , recall_score(y_OOS_test, y_pred))\n",
    "print(\"Gradient Boosting Precision : \", precision_score(y_OOS_test,y_pred))\n",
    "print(\"Gradient Boosting f1 : \", f1_score(y_OOS_test,y_pred))\n",
    "print(\"Gradient Boosting Mean Squared Error : \", mean_squared_error(y_OOS_test,y_pred))"
   ]
  },
  {
   "cell_type": "markdown",
   "id": "961eae6e",
   "metadata": {},
   "source": [
    "### 4.1 Cross Validation for Gradient Boosting"
   ]
  },
  {
   "cell_type": "markdown",
   "id": "287ad7b0",
   "metadata": {},
   "source": [
    "# Model 5 : Adaboost"
   ]
  },
  {
   "cell_type": "code",
   "execution_count": 27,
   "id": "32077438",
   "metadata": {},
   "outputs": [],
   "source": [
    "# Create a weak learner (a stump)\n",
    "weak_learner = DecisionTreeClassifier(max_depth=1)\n",
    "\n",
    "# Create an AdaBoost classifier using the weak learner\n",
    "adaboost_classifier = AdaBoostClassifier(estimator=weak_learner, n_estimators=1000, random_state=0)\n",
    "\n",
    "# Train the AdaBoost classifier\n",
    "adaboost_classifier.fit(X_smote, y_smote)\n",
    "\n",
    "y_pred = adaboost_classifier.predict(X_OOS_test)\n",
    "print(\"Adaboost Accuracy : \" , accuracy_score(y_OOS_test, y_pred))\n",
    "print(\"Adaboost Recall : \" , recall_score(y_OOS_test, y_pred))\n",
    "print(\"Adaboost Precision : \", precision_score(y_OOS_test,y_pred))\n",
    "print(\"Adaboost f1 : \", f1_score(y_OOS_test,y_pred))\n",
    "print(\"Adaboost MSE : \", mean_squared_error(y_OOS_test,y_pred))"
   ]
  },
  {
   "cell_type": "markdown",
   "id": "f192c356",
   "metadata": {},
   "source": [
    "### 5.1 Cross Validation for Adaboost"
   ]
  },
  {
   "cell_type": "code",
   "execution_count": 90,
   "id": "b942138f",
   "metadata": {},
   "outputs": [
    {
     "name": "stdout",
     "output_type": "stream",
     "text": [
      "Depth of Tree :  50  Learning rate  0\n",
      "Accuracy : 0.8511118759380258\n",
      "Precision : 0.8349574334837758\n",
      "Recall : 0.8628386999931793\n",
      "\n",
      "Depth of Tree :  100  Learning rate  0\n",
      "Accuracy : 0.8557772004361235\n",
      "Precision : 0.837668103729779\n",
      "Recall : 0.8691481835156616\n",
      "\n",
      "Depth of Tree :  250  Learning rate  0\n",
      "Accuracy : 0.8618903747362919\n",
      "Precision : 0.8423074236485156\n",
      "Recall : 0.8766470530523236\n",
      "\n",
      "Depth of Tree :  500  Learning rate  0\n",
      "Accuracy : 0.868900729585459\n",
      "Precision : 0.848261189281027\n",
      "Recall : 0.8847872546225078\n",
      "\n",
      "------------------\n",
      "Accuracy :  {0: {50: 0.8511118759380258, 100: 0.8557772004361235, 250: 0.8618903747362919, 500: 0.868900729585459}}\n",
      "Precision :  {0: {50: 0.8628386999931793, 100: 0.8691481835156616, 250: 0.8766470530523236, 500: 0.8847872546225078}}\n",
      "Recall :  {0: {50: 0.8349574334837758, 100: 0.837668103729779, 250: 0.8423074236485156, 500: 0.848261189281027}}\n"
     ]
    }
   ],
   "source": [
    "# CV in Trees \n",
    "# Set Hyperparameter (Lambda) values to cross validate here !!!!!\n",
    "learning_rates = [0]\n",
    "number_of_trees = [50,100,250,500]\n",
    "\n",
    "cross_validate_result = create_dictionary(learning_rates,number_of_trees)\n",
    "cross_validate_recall = create_dictionary(learning_rates,number_of_trees)\n",
    "cross_validate_precision = create_dictionary(learning_rates,number_of_trees) \n",
    "\n",
    "for rate in learning_rates: \n",
    "    for tree in number_of_trees:\n",
    "        print('Depth of Tree : ', tree, ' Learning rate ', rate)\n",
    "        accuracies = []\n",
    "        recall_scores = [] \n",
    "        precision_scores = [] \n",
    "        adaboost_classifier = AdaBoostClassifier(estimator=weak_learner, n_estimators=tree, random_state=0)\n",
    "        for train_index, test_index in cv.split(X_smote):\n",
    "            # change to loc to define the rows in the dataframe \n",
    "            X_cv_train, X_cv_test, y_cv_train, y_cv_test = X_smote.iloc[train_index], X_smote.iloc[test_index], y_smote.iloc[train_index], y_smote.iloc[test_index]\n",
    "            adaboost_classifier.fit(X_cv_train, y_cv_train)\n",
    "            y_pred = adaboost_classifier.predict(X_cv_test)\n",
    "\n",
    "            #Cross-Validation Prediction Error\n",
    "            score = adaboost_classifier.score(X_cv_test, y_cv_test)\n",
    "            accuracies.append(score)\n",
    "            recall_scores.append(recall_score(y_cv_test, y_pred))\n",
    "            precision_scores.append(precision_score(y_cv_test,y_pred))\n",
    "        \n",
    "        cross_validate_result[rate][tree] = (sum(accuracies)/len(accuracies))\n",
    "        cross_validate_recall[rate][tree] = (sum(recall_scores)/len(recall_scores))\n",
    "        cross_validate_precision[rate][tree] = (sum(precision_scores)/len(precision_scores))\n",
    "\n",
    "        print(\"Accuracy : \" + str((sum(accuracies)/len(accuracies))))\n",
    "        print(\"Precision : \" + str((sum(recall_scores)/len(recall_scores))))\n",
    "        print(\"Recall : \" + str((sum(precision_scores)/len(precision_scores))))\n",
    "        print() \n",
    "# At the end you'll see what the value of each LASSO paramter is\n",
    "print('------------------')\n",
    "print('Accuracy : ', cross_validate_result)\n",
    "print('Precision : ',cross_validate_precision)\n",
    "print('Recall : ',cross_validate_recall)"
   ]
  },
  {
   "cell_type": "markdown",
   "id": "b500ec7e",
   "metadata": {},
   "source": [
    "# Model 6 : XGBoost"
   ]
  },
  {
   "cell_type": "code",
   "execution_count": 45,
   "id": "ae5b42ec",
   "metadata": {},
   "outputs": [],
   "source": [
    "\n",
    "# X_smote_xg = X_train.rename(columns={'age_<25': 'less_than_25'})\n",
    "# X_OOS_test_xg = X_OOS_test.rename(columns={'age_<25': 'less_than_25'})\n",
    "\n",
    "sm = SMOTE(random_state=42)\n",
    "X_smote, y_smote = sm.fit_resample(X_train, y_train)\n",
    "# dtrain = xgb.DMatrix(X_smote, label=y_smote)\n",
    "# dtest = xgb.DMatrix(X_OOS_test, label=y_OOS_test)\n",
    "\n",
    "# Set hyperparameters\n",
    "params = {\n",
    "    'objective': 'binary:logistic',\n",
    "    'eval_metric': 'logloss',\n",
    "    'max_depth': 3,\n",
    "    'eta': 0.1,\n",
    "    'subsample': 0.8\n",
    "}\n",
    "\n",
    "XGBoost = XGBClassifier(objective='binary:logistic', random_state=42,n_estimators=200,max_depth=7,learning_rate=0.1)\n",
    "XGBoost.fit(X_smote,y_smote)\n",
    "# XGBoost.fit(X_train,y_train)\n",
    "\n",
    "\n",
    "threshold = 0.1\n",
    "# Make predictions on the test set\n",
    "y_pred = XGBoost.predict(X_OOS_test)\n"
   ]
  },
  {
   "cell_type": "code",
   "execution_count": 46,
   "id": "2439aa00",
   "metadata": {},
   "outputs": [
    {
     "name": "stdout",
     "output_type": "stream",
     "text": [
      "Recall :  0.36937847397675594\n",
      "Precision :  0.6329004329004329\n",
      "Accuracy :  0.8614000911841505\n"
     ]
    }
   ],
   "source": [
    "print(\"Recall : \" , recall_score(y_OOS_test, y_pred))\n",
    "print(\"Precision : \" , precision_score(y_OOS_test, y_pred))\n",
    "print(\"Accuracy : \" , accuracy_score(y_OOS_test, y_pred))\n",
    "\n",
    "\n",
    "# Recall :  0.29434057604850933\n",
    "# Precision :  0.743933588761175\n",
    "# Accuracy :  0.8676171923571103\n",
    "\n",
    "# Recall :  0.36937847397675594\n",
    "# Precision :  0.6329004329004329\n",
    "# Accuracy :  0.8614000911841505"
   ]
  },
  {
   "cell_type": "markdown",
   "id": "778e2c88",
   "metadata": {},
   "source": [
    "### 6.1 Confusion Matrix for XGBoost "
   ]
  },
  {
   "cell_type": "code",
   "execution_count": 33,
   "id": "8cdfb83d",
   "metadata": {},
   "outputs": [
    {
     "data": {
      "image/png": "[encoded data removed]",
      "text/plain": [
       "<Figure size 800x600 with 1 Axes>"
      ]
     },
     "metadata": {},
     "output_type": "display_data"
    }
   ],
   "source": [
    "# Compute the confusion matrix\n",
    "cm = confusion_matrix(y_OOS_test, y_pred)\n",
    "\n",
    "# Plot the confusion matrix as a heatmap\n",
    "plt.figure(figsize=(8, 6))\n",
    "sns.heatmap(cm, annot=True, fmt='d', cmap='Blues', cbar=False,\n",
    "            xticklabels=['Not Default', 'Default'],\n",
    "            yticklabels=['Not Default', 'Default'])\n",
    "plt.title('Confusion Matrix')\n",
    "plt.xlabel('Predicted')\n",
    "plt.ylabel('Actual')\n",
    "plt.show()"
   ]
  },
  {
   "cell_type": "markdown",
   "id": "d54803ed",
   "metadata": {},
   "source": [
    "### Cross Validation for XGBoost"
   ]
  },
  {
   "cell_type": "code",
   "execution_count": 26,
   "id": "65de7957",
   "metadata": {},
   "outputs": [],
   "source": [
    "from xgboost import XGBClassifier  # Assuming you are using XGBoost for classification; use XGBRegressor for regression\n",
    "\n",
    "XGBoost = XGBClassifier(objective='binary:logistic', random_state=42)\n",
    "\n",
    "# Define the hyperparameters and their respective values to be explored\n",
    "param_grid = {\n",
    "    'max_depth': [1, 3, 5, 10, 20, 30],\n",
    "    'learning_rate': [0.1, 0.01, 0.001, 0.0001],\n",
    "    'n_estimators': [50, 100, 200, 300, 500 ]\n",
    "    # Add more hyperparameters and values as needed\n",
    "}\n",
    "\n",
    "# Create the GridSearchCV object\n",
    "scoring = {'precision': make_scorer(precision_score), 'recall': make_scorer(recall_score)}\n",
    "grid_search = GridSearchCV(XGBoost, param_grid, cv=cv, scoring=scoring,refit='precision', n_jobs=-1)\n",
    "\n",
    "# Fit the model with different hyperparameter combinations\n",
    "grid_search.fit(X_smote_xg, y_smote)\n",
    "\n",
    "# Print the best hyperparameters and corresponding accuracy\n",
    "best_params = grid_search.best_params_\n",
    "best_accuracy = grid_search.best_score_\n",
    "\n",
    "print(f'Best Hyperparameters: {best_params}')\n",
    "print(f'Best Cross-Validation Accuracy: {best_accuracy:.4f}')"
   ]
  },
  {
   "cell_type": "markdown",
   "id": "8d9c9f67",
   "metadata": {},
   "source": [
    "# Model 9 : Changing the threshold for XGBoost  "
   ]
  },
  {
   "cell_type": "markdown",
   "id": "5db2199d",
   "metadata": {},
   "source": [
    "### XGBoost Cross Validate to find the best threshold"
   ]
  },
  {
   "cell_type": "code",
   "execution_count": 190,
   "id": "d380f303",
   "metadata": {},
   "outputs": [
    {
     "name": "stdout",
     "output_type": "stream",
     "text": [
      "Threshold :  0.2\n",
      "Accuracy : 0.8027694900826683\n",
      "Precision : 0.9457185400672257\n",
      "Recall : 0.7354633165013805\n",
      "\n",
      "Threshold :  0.25\n",
      "Accuracy : 0.8371035432428636\n",
      "Precision : 0.9311525271309199\n",
      "Recall : 0.7837398023365946\n",
      "\n",
      "Threshold :  0.3\n",
      "Accuracy : 0.8619708267882912\n",
      "Precision : 0.9177758575914524\n",
      "Recall : 0.825635414616092\n",
      "\n",
      "Threshold :  0.35\n",
      "Accuracy : 0.880025749442205\n",
      "Precision : 0.9037939689462094\n",
      "Recall : 0.862795756032224\n",
      "\n",
      "Threshold :  0.4\n",
      "Accuracy : 0.8917818594021367\n",
      "Precision : 0.8886419860204237\n",
      "Recall : 0.8942637174307843\n",
      "\n",
      "Threshold :  0.45\n",
      "Accuracy : 0.8984209772795794\n",
      "Precision : 0.8731882745005818\n",
      "Recall : 0.9196055320065014\n",
      "\n",
      "Threshold :  0.5\n",
      "Accuracy : 0.8997883997231677\n",
      "Precision : 0.8559396590819375\n",
      "Recall : 0.9382287573383132\n",
      "\n",
      "------------------\n",
      "Accuracy :  {20.0: 0.8027694900826683, 25.0: 0.8371035432428636, 30.0: 0.8619708267882912, 35.0: 0.880025749442205, 40.0: 0.8917818594021367, 45.0: 0.8984209772795794, 50.0: 0.8997883997231677}\n",
      "Precision :  {20.0: 0.7354633165013805, 25.0: 0.7837398023365946, 30.0: 0.825635414616092, 35.0: 0.862795756032224, 40.0: 0.8942637174307843, 45.0: 0.9196055320065014, 50.0: 0.9382287573383132}\n",
      "Recall :  {20.0: 0.9457185400672257, 25.0: 0.9311525271309199, 30.0: 0.9177758575914524, 35.0: 0.9037939689462094, 40.0: 0.8886419860204237, 45.0: 0.8731882745005818, 50.0: 0.8559396590819375}\n"
     ]
    }
   ],
   "source": [
    "# CV in Trees \n",
    "# Set Hyperparameter (Lambda) values to cross validate here !!!!!\n",
    "thresholds = [0.2, 0.25, 0.3 , 0.35, 0.4, 0.45, 0.5 ] \n",
    "\n",
    "cross_validate_result = {}\n",
    "cross_validate_recall = {} \n",
    "cross_validate_precision = {} \n",
    "\n",
    "for threshold in thresholds: \n",
    "    print('Threshold : ', threshold)\n",
    "    accuracies = []\n",
    "    recall_scores = [] \n",
    "    precision_scores = [] \n",
    "    XGBoost = xgb.XGBRegressor(objective='reg:squarederror', seed=42,n_estimators=200,max_depth=7,learning_rate=0.1)\n",
    "    for train_index, test_index in cv.split(X_smote_xg):\n",
    "        # change to loc to define the rows in the dataframe \n",
    "        X_cv_train, X_cv_test, y_cv_train, y_cv_test = X_smote_xg.iloc[train_index], X_smote_xg.iloc[test_index], y_smote.iloc[train_index], y_smote.iloc[test_index]\n",
    "        XGBoost.fit(X_cv_train, y_cv_train)\n",
    "        y_pred_prob = XGBoost.predict(X_cv_test)\n",
    "\n",
    "        # Make predictions on the test set\n",
    "        y_pred = [1 if pred > threshold else 0 for pred in y_pred_prob]\n",
    "\n",
    "        #Cross-Validation Prediction Error\n",
    "\n",
    "        accuracies.append(accuracy_score(y_cv_test, y_pred))\n",
    "        recall_scores.append(recall_score(y_cv_test, y_pred))\n",
    "        precision_scores.append(precision_score(y_cv_test,y_pred))\n",
    "    \n",
    "    cross_validate_result[threshold * 100] = (sum(accuracies)/len(accuracies))\n",
    "    cross_validate_recall[threshold * 100] = (sum(recall_scores)/len(recall_scores))\n",
    "    cross_validate_precision[threshold * 100] = (sum(precision_scores)/len(precision_scores))\n",
    "\n",
    "    print(\"Accuracy : \" + str((sum(accuracies)/len(accuracies))))\n",
    "    print(\"Precision : \" + str((sum(recall_scores)/len(recall_scores))))\n",
    "    print(\"Recall : \" + str((sum(precision_scores)/len(precision_scores))))\n",
    "    print() \n",
    "    \n",
    "# At the end you'll see what the value of each LASSO paramter is\n",
    "print('------------------')\n",
    "print('Accuracy : ', cross_validate_result)\n",
    "print('Precision : ',cross_validate_precision)\n",
    "print('Recall : ',cross_validate_recall)"
   ]
  },
  {
   "cell_type": "code",
   "execution_count": 193,
   "id": "b6a195df",
   "metadata": {},
   "outputs": [
    {
     "data": {
      "image/png": "[encoded data removed]",
      "text/plain": [
       "<Figure size 640x480 with 1 Axes>"
      ]
     },
     "metadata": {},
     "output_type": "display_data"
    }
   ],
   "source": [
    "array = {'Accuracy' :  cross_validate_result, \n",
    "        'Precision' :  cross_validate_precision ,\n",
    "        'Recall' :  cross_validate_recall}\n",
    "pd.DataFrame(array).plot(kind='line', marker='o')\n",
    "\n",
    "# Display the plot\n",
    "plt.title('Threshold Adjustment Cross Validation')\n",
    "plt.xlabel('Threshold (in %)')\n",
    "plt.ylabel('Percent')\n",
    "plt.show()"
   ]
  },
  {
   "cell_type": "code",
   "execution_count": 194,
   "id": "cf77810c",
   "metadata": {},
   "outputs": [],
   "source": [
    "threshold = 0.4\n",
    "# Make predictions on the test set\n",
    "y_pred_prob = XGBoost.predict(X_OOS_test_xg)\n",
    "y_pred = [1 if pred > threshold else 0 for pred in y_pred_prob]"
   ]
  },
  {
   "cell_type": "markdown",
   "id": "5eb44c52",
   "metadata": {},
   "source": [
    "# Final Results for XGBoost with adjusted threshold to 0.4 for predicting default "
   ]
  },
  {
   "cell_type": "code",
   "execution_count": 195,
   "id": "1e9bd42e",
   "metadata": {},
   "outputs": [
    {
     "name": "stdout",
     "output_type": "stream",
     "text": [
      "XGBoost Accuracy :  0.8194553819372488\n",
      "XGBoost Recall :  0.44871147043961596\n",
      "XGBoost Precision :  0.44962025316455695\n",
      "XGBoost MSE :  0.18054461806275127\n",
      "XGBoost f1 :  0.44916540212443096\n"
     ]
    }
   ],
   "source": [
    "print(\"XGBoost Accuracy : \" , accuracy_score(y_OOS_test, y_pred))\n",
    "print(\"XGBoost Recall : \" , recall_score(y_OOS_test, y_pred))\n",
    "print(\"XGBoost Precision : \", precision_score(y_OOS_test,y_pred))\n",
    "print(\"XGBoost MSE : \", mean_squared_error(y_OOS_test,y_pred))\n",
    "print(\"XGBoost f1 : \", f1_score(y_OOS_test,y_pred))"
   ]
  }
 ],
 "metadata": {
  "kernelspec": {
   "display_name": "Python 3 (ipykernel)",
   "language": "python",
   "name": "python3"
  },
  "language_info": {
   "codemirror_mode": {
    "name": "ipython",
    "version": 3
   },
   "file_extension": ".py",
   "mimetype": "text/x-python",
   "name": "python",
   "nbconvert_exporter": "python",
   "pygments_lexer": "ipython3",
   "version": "3.11.4"
  }
 },
 "nbformat": 4,
 "nbformat_minor": 5
}
